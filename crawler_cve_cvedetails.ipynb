{
 "cells": [
  {
   "cell_type": "markdown",
   "metadata": {},
   "source": [
    "# Crawler of CVEs from 'cvedetails.com'"
   ]
  },
  {
   "cell_type": "code",
   "execution_count": 1,
   "metadata": {},
   "outputs": [],
   "source": [
    "import cfscrape\n",
    "from lxml import etree\n",
    "import pandas as pd\n",
    "scraper = cfscrape.create_scraper()"
   ]
  },
  {
   "cell_type": "code",
   "execution_count": 13,
   "metadata": {},
   "outputs": [],
   "source": [
    "url=\"https://www.cvedetails.com/vulnerability-list/vendor_id-12508/Mikrotik.html\""
   ]
  },
  {
   "cell_type": "code",
   "execution_count": 14,
   "metadata": {},
   "outputs": [
    {
     "name": "stdout",
     "output_type": "stream",
     "text": [
      "https://www.cvedetails.com/cve/CVE-2019-13955/\n",
      "CVE-2019-13955 : Mikrotik RouterOS before 6.44.5 (long-term release tree) is vulnerable to stack exhaustion. By sending a crafted HTTP re\n",
      "https://www.cvedetails.com/cve/CVE-2019-13954/\n",
      "CVE-2019-13954 : Mikrotik RouterOS before 6.44.5 (long-term release tree) is vulnerable to memory exhaustion. By sending a crafted HTTP r\n",
      "https://www.cvedetails.com/cve/CVE-2019-13074/\n",
      "CVE-2019-13074 : A vulnerability in the FTP daemon on MikroTik routers through 6.44.3 could allow remote attackers to exhaust all availab\n",
      "https://www.cvedetails.com/cve/CVE-2019-3943/\n",
      "CVE-2019-3943 : MikroTik RouterOS versions Stable 6.43.12 and below, Long-term 6.42.12 and below, and Testing 6.44beta75 and below are v\n",
      "https://www.cvedetails.com/cve/CVE-2018-14847/\n",
      "CVE-2018-14847 : MikroTik RouterOS through 6.42 allows unauthenticated remote attackers to read arbitrary files and remote authenticated \n",
      "https://www.cvedetails.com/cve/CVE-2018-10070/\n",
      "CVE-2018-10070 : A vulnerability in MikroTik Version 6.41.4 could allow an unauthenticated remote attacker to exhaust all available CPU a\n",
      "https://www.cvedetails.com/cve/CVE-2018-10066/\n",
      "CVE-2018-10066 : An issue was discovered in MikroTik RouterOS 6.41.4. Missing OpenVPN server certificate verification allows a remote una\n",
      "https://www.cvedetails.com/cve/CVE-2018-7445/\n",
      "CVE-2018-7445 : A buffer overflow was found in the MikroTik RouterOS SMB service when processing NetBIOS session request messages. Remot\n",
      "https://www.cvedetails.com/cve/CVE-2018-1159/\n",
      "CVE-2018-1159 : Mikrotik RouterOS before 6.42.7 and 6.40.9 is vulnerable to a memory corruption vulnerability. An authenticated remote a\n",
      "https://www.cvedetails.com/cve/CVE-2018-1158/\n",
      "CVE-2018-1158 : Mikrotik RouterOS before 6.42.7 and 6.40.9 is vulnerable to a stack exhaustion vulnerability. An authenticated remote at\n",
      "https://www.cvedetails.com/cve/CVE-2018-1157/\n",
      "CVE-2018-1157 : Mikrotik RouterOS before 6.42.7 and 6.40.9 is vulnerable to a memory exhaustion vulnerability. An authenticated remote a\n",
      "https://www.cvedetails.com/cve/CVE-2018-1156/\n",
      "CVE-2018-1156 : Mikrotik RouterOS before 6.42.7 and 6.40.9 is vulnerable to stack buffer overflow through the license upgrade interface.\n",
      "https://www.cvedetails.com/cve/CVE-2017-17538/\n",
      "CVE-2017-17538 : MikroTik v6.40.5 devices allow remote attackers to cause a denial of service via a flood of ICMP packets.\n",
      "https://www.cvedetails.com/cve/CVE-2017-17537/\n",
      "CVE-2017-17537 : MikroTik RouterBOARD v6.39.2 and v6.40.5 allows an unauthenticated remote attacker to cause a denial of service by conne\n",
      "https://www.cvedetails.com/cve/CVE-2017-8338/\n",
      "CVE-2017-8338 : A vulnerability in MikroTik Version 6.38.5 could allow an unauthenticated remote attacker to exhaust all available CPU v\n",
      "https://www.cvedetails.com/cve/CVE-2017-7285/\n",
      "CVE-2017-7285 : A vulnerability in the network stack of MikroTik Version 6.38.5 released 2017-03-09 could allow an unauthenticated remot\n",
      "https://www.cvedetails.com/cve/CVE-2017-6444/\n",
      "CVE-2017-6444 : The MikroTik Router hAP Lite 6.25 has no protection mechanism for unsolicited TCP ACK packets in the case of a fast netw\n",
      "https://www.cvedetails.com/cve/CVE-2017-6297/\n",
      "CVE-2017-6297 : The L2TP Client in MikroTik RouterOS versions 6.83.3 and 6.37.4 does not enable IPsec encryption after a reboot, which a\n",
      "https://www.cvedetails.com/cve/CVE-2015-2350/\n",
      "CVE-2015-2350 : Cross-site request forgery (CSRF) vulnerability in MikroTik RouterOS 5.0 and earlier allows remote attackers to hijack t\n",
      "https://www.cvedetails.com/cve/CVE-2012-6050/\n",
      "CVE-2012-6050 : The winbox service in MikroTik RouterOS 5.15 and earlier allows remote attackers to cause a denial of service (CPU consu\n"
     ]
    }
   ],
   "source": [
    "scraped_html=scraper.get(url).content\n",
    "html = etree.HTML(scraped_html)\n",
    "\n",
    "for element in html.xpath(\"//div[@id='searchresults']//@href\"):\n",
    "    if '/cve/CVE-' in element:\n",
    "        new_url = 'https://www.cvedetails.com'+element\n",
    "        print(new_url)\n",
    "        scraped_html=scraper.get(new_url).content\n",
    "        title = etree.HTML(scraped_html).xpath(\"//title\")[0].text\n",
    "        print (title)"
   ]
  }
 ],
 "metadata": {
  "kernelspec": {
   "display_name": "Python 3",
   "language": "python",
   "name": "python3"
  },
  "language_info": {
   "codemirror_mode": {
    "name": "ipython",
    "version": 3
   },
   "file_extension": ".py",
   "mimetype": "text/x-python",
   "name": "python",
   "nbconvert_exporter": "python",
   "pygments_lexer": "ipython3",
   "version": "3.7.0"
  }
 },
 "nbformat": 4,
 "nbformat_minor": 2
}
