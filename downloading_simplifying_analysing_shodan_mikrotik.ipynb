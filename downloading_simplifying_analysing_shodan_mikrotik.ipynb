{
 "cells": [
  {
   "cell_type": "markdown",
   "metadata": {},
   "source": [
    "<h1 align='center'>!!!!!!!!!!!!!!!!!!!!!!!!!!!!!!!!!!!!!!!!!!!!!!!!!!!!!!!!!!!!!!!!!!!!!!!!!!!!!!!!!!!!!!!!!!!!<br>1. DOWNLOADING SHODAN.IO DAILY RAW DATA</h1>"
   ]
  },
  {
   "cell_type": "markdown",
   "metadata": {},
   "source": [
    "### Initiating the personal Shodan key"
   ]
  },
  {
   "cell_type": "code",
   "execution_count": 1,
   "metadata": {},
   "outputs": [
    {
     "name": "stdout",
     "output_type": "stream",
     "text": [
      "\u001b[32mSuccessfully initialized\u001b[0m\r\n"
     ]
    }
   ],
   "source": [
    "!shodan init dcv9HqJGyaGEWa1t5lDiDXrI0CrG3fTp "
   ]
  },
  {
   "cell_type": "markdown",
   "metadata": {},
   "source": [
    "### Playing with Shodan CLI"
   ]
  },
  {
   "cell_type": "code",
   "execution_count": 3,
   "metadata": {},
   "outputs": [
    {
     "name": "stdout",
     "output_type": "stream",
     "text": [
      "1396209\r\n"
     ]
    }
   ],
   "source": [
    "!shodan count mikrotik"
   ]
  },
  {
   "cell_type": "code",
   "execution_count": 5,
   "metadata": {},
   "outputs": [
    {
     "name": "stdout",
     "output_type": "stream",
     "text": [
      "3211918\r\n"
     ]
    }
   ],
   "source": [
    "!shodan count product:mikrotik"
   ]
  },
  {
   "cell_type": "code",
   "execution_count": 6,
   "metadata": {},
   "outputs": [
    {
     "name": "stdout",
     "output_type": "stream",
     "text": [
      "1124\r\n"
     ]
    }
   ],
   "source": [
    "!shodan count product:mikrotiksmb"
   ]
  },
  {
   "cell_type": "code",
   "execution_count": 7,
   "metadata": {},
   "outputs": [
    {
     "name": "stdout",
     "output_type": "stream",
     "text": [
      "948737\r\n"
     ]
    }
   ],
   "source": [
    "!shodan count vendor: mikrotik"
   ]
  },
  {
   "cell_type": "markdown",
   "metadata": {},
   "source": [
    "### Downloading all the results using query \"mikrotik\" (via CLI)\n",
    "**NOTE:** 1 query credit = 100 results\n",
    "\n",
    "**NOTE:** this approach is limited to 1M results. "
   ]
  },
  {
   "cell_type": "code",
   "execution_count": 67,
   "metadata": {},
   "outputs": [
    {
     "name": "stdout",
     "output_type": "stream",
     "text": [
      "Search query:\t\t\tmikrotik\n",
      "Total number of results:\t1644005\n",
      "Query credits left:\t\t0\n",
      "Output file:\t\t\tshodan_output_cable.json.gz\n",
      "\u001b[?25l  [####################################]  100%              \u001b[?25h\n",
      "\u001b[33mNotice: fewer results were saved than requested\u001b[0m\n",
      "\u001b[32mSaved 100 results into file shodan_output_cable.json.gz\u001b[0m\n"
     ]
    }
   ],
   "source": [
    "!shodan download --limit -1 shodan_output \"mikrotik\""
   ]
  },
  {
   "cell_type": "markdown",
   "metadata": {},
   "source": [
    "**Note:** Shodan takes around 2 weeks to perform the port-scan in the entire Internet, therefore We also need to download 2 weeks in advance, merge and analyse!!!!"
   ]
  },
  {
   "cell_type": "code",
   "execution_count": null,
   "metadata": {},
   "outputs": [],
   "source": [
    "!shodan download --limit -1 shodan_mikrotik_older \"mikrotik before:04/07/2019\""
   ]
  },
  {
   "cell_type": "markdown",
   "metadata": {},
   "source": [
    "### Downloading via an ENTERPRIZE account [MAIN]\n",
    "https://enterprise.shodan.io/dashboard"
   ]
  },
  {
   "cell_type": "code",
   "execution_count": 8,
   "metadata": {},
   "outputs": [
    {
     "name": "stdout",
     "output_type": "stream",
     "text": [
      "\u001b[36mcountry        \u001b[0mData broken down by country of the device\r\n",
      "\u001b[36mships          \u001b[0mAIS data from public receivers\r\n",
      "\u001b[36mping           \u001b[0mPing sweeps of the entire IPv4 as well as statistical breakdown of devices by country\r\n",
      "\u001b[36mraw-daily      \u001b[0mData files containing all the information collected during a day\r\n"
     ]
    }
   ],
   "source": [
    "!shodan data list"
   ]
  },
  {
   "cell_type": "code",
   "execution_count": 9,
   "metadata": {
    "scrolled": false
   },
   "outputs": [
    {
     "name": "stdout",
     "output_type": "stream",
     "text": [
      "\u001b[36m2019-08-14.json.gz  \u001b[0m\u001b[33m123.8 GB  \u001b[0mhttps://f001.backblazeb2.com/b2api/v1/b2_download_file_by_id?fileId=4_ze3b56ca7daafe60052c90a15_f2036e4bb0915da7f_d20190815_m000003_c001_v0001092_t0019\r\n",
      "\u001b[36m2019-08-13.json.gz  \u001b[0m\u001b[33m124.9 GB  \u001b[0mhttps://f001.backblazeb2.com/b2api/v1/b2_download_file_by_id?fileId=4_ze3b56ca7daafe60052c90a15_f210e88ba1cce8de8_d20190814_m000003_c001_v0001116_t0057\r\n",
      "\u001b[36m2019-08-12.json.gz  \u001b[0m\u001b[33m121.4 GB  \u001b[0mhttps://f001.backblazeb2.com/b2api/v1/b2_download_file_by_id?fileId=4_ze3b56ca7daafe60052c90a15_f2036e4bb0914f866_d20190813_m000004_c001_v0001099_t0008\r\n",
      "\u001b[36m2019-08-11.json.gz  \u001b[0m\u001b[33m115.1 GB  \u001b[0mhttps://f001.backblazeb2.com/b2api/v1/b2_download_file_by_id?fileId=4_ze3b56ca7daafe60052c90a15_f2089186ece828e5f_d20190812_m000003_c001_v0001043_t0051\r\n",
      "\u001b[36m2019-08-10.json.gz  \u001b[0m\u001b[33m116.9 GB  \u001b[0mhttps://f001.backblazeb2.com/b2api/v1/b2_download_file_by_id?fileId=4_ze3b56ca7daafe60052c90a15_f2036e4bb091439b3_d20190811_m000003_c001_v0001006_t0001\r\n",
      "\u001b[36m2019-08-09.json.gz  \u001b[0m\u001b[33m120.4 GB  \u001b[0mhttps://f001.backblazeb2.com/b2api/v1/b2_download_file_by_id?fileId=4_ze3b56ca7daafe60052c90a15_f211fe91ab233a109_d20190810_m000003_c001_v0001101_t0016\r\n",
      "\u001b[36m2019-08-08.json.gz  \u001b[0m\u001b[33m125.3 GB  \u001b[0mhttps://f001.backblazeb2.com/b2api/v1/b2_download_file_by_id?fileId=4_ze3b56ca7daafe60052c90a15_f2089186ece81610d_d20190809_m000004_c001_v0001036_t0036\r\n",
      "\u001b[36m2019-08-07.json.gz  \u001b[0m\u001b[33m127.6 GB  \u001b[0mhttps://f001.backblazeb2.com/b2api/v1/b2_download_file_by_id?fileId=4_ze3b56ca7daafe60052c90a15_f2026527583b93bb3_d20190808_m000006_c001_v0001093_t0044\r\n",
      "\u001b[36m2019-08-06.json.gz  \u001b[0m\u001b[33m126.4 GB  \u001b[0mhttps://f001.backblazeb2.com/b2api/v1/b2_download_file_by_id?fileId=4_ze3b56ca7daafe60052c90a15_f2051b8c8ba0900af_d20190807_m000004_c001_v0001120_t0044\r\n",
      "\u001b[36m2019-08-05.json.gz  \u001b[0m\u001b[33m131.4 GB  \u001b[0mhttps://f001.backblazeb2.com/b2api/v1/b2_download_file_by_id?fileId=4_ze3b56ca7daafe60052c90a15_f20105d33c7c97c73_d20190806_m000004_c001_v0001120_t0053\r\n",
      "\u001b[36m2019-08-04.json.gz  \u001b[0m\u001b[33m132.8 GB  \u001b[0mhttps://f001.backblazeb2.com/b2api/v1/b2_download_file_by_id?fileId=4_ze3b56ca7daafe60052c90a15_f207db8c2e8e94b58_d20190805_m000005_c001_v0001105_t0014\r\n",
      "\u001b[36m2019-08-03.json.gz  \u001b[0m\u001b[33m148.0 GB  \u001b[0mhttps://f001.backblazeb2.com/b2api/v1/b2_download_file_by_id?fileId=4_ze3b56ca7daafe60052c90a15_f20105d33c7c88d12_d20190804_m000005_c001_v0001038_t0008\r\n",
      "\u001b[36m2019-08-02.json.gz  \u001b[0m\u001b[33m140.7 GB  \u001b[0mhttps://f001.backblazeb2.com/b2api/v1/b2_download_file_by_id?fileId=4_ze3b56ca7daafe60052c90a15_f204eaed49c1a20c2_d20190803_m000005_c001_v0001106_t0007\r\n",
      "\u001b[36m2019-08-01.json.gz  \u001b[0m\u001b[33m119.4 GB  \u001b[0mhttps://f001.backblazeb2.com/b2api/v1/b2_download_file_by_id?fileId=4_ze3b56ca7daafe60052c90a15_f208b38116edc0fdb_d20190802_m000007_c001_v0001039_t0020\r\n",
      "\u001b[36m2019-07-31.json.gz  \u001b[0m\u001b[33m118.7 GB  \u001b[0mhttps://f001.backblazeb2.com/b2api/v1/b2_download_file_by_id?fileId=4_ze3b56ca7daafe60052c90a15_f205127736f45d3ae_d20190801_m000005_c001_v0001031_t0041\r\n",
      "\u001b[36m2019-07-30.json.gz  \u001b[0m\u001b[33m123.1 GB  \u001b[0mhttps://f001.backblazeb2.com/b2api/v1/b2_download_file_by_id?fileId=4_ze3b56ca7daafe60052c90a15_f20465a2888f4515a_d20190731_m000004_c001_v0001012_t0034\r\n",
      "\u001b[36m2019-07-29.json.gz  \u001b[0m\u001b[33m125.8 GB  \u001b[0mhttps://f001.backblazeb2.com/b2api/v1/b2_download_file_by_id?fileId=4_ze3b56ca7daafe60052c90a15_f20056ef5a39f0437_d20190730_m000004_c001_v0001115_t0054\r\n",
      "\u001b[36m2019-07-28.json.gz  \u001b[0m\u001b[33m107.1 GB  \u001b[0mhttps://f001.backblazeb2.com/b2api/v1/b2_download_file_by_id?fileId=4_ze3b56ca7daafe60052c90a15_f20465a2888f38610_d20190729_m000004_c001_v0001090_t0019\r\n",
      "\u001b[36m2019-07-27.json.gz  \u001b[0m\u001b[33m114.6 GB  \u001b[0mhttps://f001.backblazeb2.com/b2api/v1/b2_download_file_by_id?fileId=4_ze3b56ca7daafe60052c90a15_f206242423f87633a_d20190728_m000005_c001_v0001091_t0058\r\n",
      "\u001b[36m2019-07-26.json.gz  \u001b[0m\u001b[33m115.4 GB  \u001b[0mhttps://f001.backblazeb2.com/b2api/v1/b2_download_file_by_id?fileId=4_ze3b56ca7daafe60052c90a15_f206242423f86f9ba_d20190727_m000005_c001_v0001101_t0053\r\n",
      "\u001b[36m2019-07-25.json.gz  \u001b[0m\u001b[33m119.6 GB  \u001b[0mhttps://f001.backblazeb2.com/b2api/v1/b2_download_file_by_id?fileId=4_ze3b56ca7daafe60052c90a15_f202c8f187fb2e829_d20190726_m000005_c001_v0001097_t0059\r\n",
      "\u001b[36m2019-07-24.json.gz  \u001b[0m\u001b[33m118.6 GB  \u001b[0mhttps://f001.backblazeb2.com/b2api/v1/b2_download_file_by_id?fileId=4_ze3b56ca7daafe60052c90a15_f211c18817ac69474_d20190725_m000005_c001_v0001102_t0047\r\n",
      "\u001b[36m2019-07-23.json.gz  \u001b[0m\u001b[33m120.2 GB  \u001b[0mhttps://f001.backblazeb2.com/b2api/v1/b2_download_file_by_id?fileId=4_ze3b56ca7daafe60052c90a15_f201b9c403f757d16_d20190724_m000005_c001_v0001093_t0030\r\n",
      "\u001b[36m2019-07-22.json.gz  \u001b[0m\u001b[33m121.2 GB  \u001b[0mhttps://f001.backblazeb2.com/b2api/v1/b2_download_file_by_id?fileId=4_ze3b56ca7daafe60052c90a15_f20856e626fbeff1e_d20190723_m000005_c001_v0001100_t0020\r\n",
      "\u001b[36m2019-07-21.json.gz  \u001b[0m\u001b[33m122.4 GB  \u001b[0mhttps://f001.backblazeb2.com/b2api/v1/b2_download_file_by_id?fileId=4_ze3b56ca7daafe60052c90a15_f2028f8c15b0a6304_d20190722_m000005_c001_v0001117_t0057\r\n",
      "\u001b[36m2019-07-20.json.gz  \u001b[0m\u001b[33m123.0 GB  \u001b[0mhttps://f001.backblazeb2.com/b2api/v1/b2_download_file_by_id?fileId=4_ze3b56ca7daafe60052c90a15_f206c78435e711916_d20190721_m000006_c001_v0001042_t0046\r\n",
      "\u001b[36m2019-07-19.json.gz  \u001b[0m\u001b[33m123.2 GB  \u001b[0mhttps://f001.backblazeb2.com/b2api/v1/b2_download_file_by_id?fileId=4_ze3b56ca7daafe60052c90a15_f204f33a7d5b3526c_d20190720_m000010_c001_v0001098_t0032\r\n",
      "\u001b[36m2019-07-18.json.gz  \u001b[0m\u001b[33m117.0 GB  \u001b[0mhttps://f001.backblazeb2.com/b2api/v1/b2_download_file_by_id?fileId=4_ze3b56ca7daafe60052c90a15_f2110c15e45b0a7ab_d20190719_m000008_c001_v0001109_t0031\r\n",
      "\u001b[36m2019-07-17.json.gz  \u001b[0m\u001b[33m112.0 GB  \u001b[0mhttps://f001.backblazeb2.com/b2api/v1/b2_download_file_by_id?fileId=4_ze3b56ca7daafe60052c90a15_f2110c15e45b0f051_d20190719_m151603_c001_v0001038_t0040\r\n",
      "\u001b[36m2019-07-16.json.gz  \u001b[0m\u001b[33m109.2 GB  \u001b[0mhttps://f001.backblazeb2.com/b2api/v1/b2_download_file_by_id?fileId=4_ze3b56ca7daafe60052c90a15_f2120f8bf891085e1_d20190717_m000003_c001_v0001104_t0022\r\n"
     ]
    }
   ],
   "source": [
    "!shodan data list --dataset=raw-daily"
   ]
  },
  {
   "cell_type": "markdown",
   "metadata": {},
   "source": [
    "### Downloading Bulk data with 4 threads"
   ]
  },
  {
   "cell_type": "code",
   "execution_count": 17,
   "metadata": {},
   "outputs": [
    {
     "name": "stdout",
     "output_type": "stream",
     "text": [
      "\n",
      "08/15 16:02:52 [\u001b[1;32mNOTICE\u001b[0m] Downloading 1 item(s)\n",
      "\n",
      "08/15 16:02:52 [\u001b[1;32mNOTICE\u001b[0m] Allocating disk space. Use --file-allocation=none to disable it. See --file-allocation option in man page for more details.\n",
      " *** Download Progress Summary as of Thu Aug 15 16:03:52 2019 ***              oc:#da35e1 42GiB/123GiB(33%)]\u001b[0m\n",
      "===============================================================================\n",
      "[#da35e1 0B/123GiB(0%) CN:1 DL:0B]\n",
      "FILE: /Users/santannajj/Dropbox/honeypot-mikrotik/data-analysis/analysis_mikrotik_shodan/../../../../shodan_raw_2019-08-14.json.gz\n",
      "-------------------------------------------------------------------------------\n",
      "\n",
      " *** Download Progress Summary as of Thu Aug 15 16:04:53 2019 ***              oc:#da35e1 80GiB/123GiB(64%)]\u001b[0m\n",
      "===============================================================================\n",
      "[#da35e1 0B/123GiB(0%) CN:1 DL:0B]\n",
      "FILE: /Users/santannajj/Dropbox/honeypot-mikrotik/data-analysis/analysis_mikrotik_shodan/../../../../shodan_raw_2019-08-14.json.gz\n",
      "-------------------------------------------------------------------------------\n",
      "\n",
      " *** Download Progress Summary as of Thu Aug 15 16:05:53 2019 ***              oc:#da35e1 117GiB/123GiB(95%)]\u001b[0m\n",
      "===============================================================================\n",
      "[#da35e1 0B/123GiB(0%) CN:1 DL:0B]\n",
      "FILE: /Users/santannajj/Dropbox/honeypot-mikrotik/data-analysis/analysis_mikrotik_shodan/../../../../shodan_raw_2019-08-14.json.gz\n",
      "-------------------------------------------------------------------------------\n",
      "\n",
      " *** Download Progress Summary as of Thu Aug 15 16:06:54 2019 ***              40m53s\u001b[0m\u001b[35m]\u001b[0m\u001b[0mmm9%)]\u001b[0m\n",
      "===============================================================================\n",
      "[#da35e1 0.9GiB/123GiB(0%) CN:4 DL:20MiB ETA:1h43m40s]\n",
      "FILE: /Users/santannajj/Dropbox/honeypot-mikrotik/data-analysis/analysis_mikrotik_shodan/../../../../shodan_raw_2019-08-14.json.gz\n",
      "-------------------------------------------------------------------------------\n",
      "\n",
      " *** Download Progress Summary as of Thu Aug 15 16:07:55 2019 ***              45m36s\u001b[0m\u001b[35m]\u001b[0m\u001b[0m\n",
      "===============================================================================\n",
      "[#da35e1 2.1GiB/123GiB(1%) CN:4 DL:19MiB ETA:1h45m18s]\n",
      "FILE: /Users/santannajj/Dropbox/honeypot-mikrotik/data-analysis/analysis_mikrotik_shodan/../../../../shodan_raw_2019-08-14.json.gz\n",
      "-------------------------------------------------------------------------------\n",
      "\n",
      " *** Download Progress Summary as of Thu Aug 15 16:08:55 2019 ***              45m18s\u001b[0m\u001b[35m]\u001b[0m\u001b[0m\n",
      "===============================================================================\n",
      "[#da35e1 3.3GiB/123GiB(2%) CN:4 DL:19MiB ETA:1h45m11s]\n",
      "FILE: /Users/santannajj/Dropbox/honeypot-mikrotik/data-analysis/analysis_mikrotik_shodan/../../../../shodan_raw_2019-08-14.json.gz\n",
      "-------------------------------------------------------------------------------\n",
      "\n",
      " *** Download Progress Summary as of Thu Aug 15 16:09:56 2019 ***              43m11s\u001b[0m\u001b[35m]\u001b[0m\u001b[0m\n",
      "===============================================================================\n",
      "[#da35e1 4.5GiB/123GiB(3%) CN:4 DL:19MiB ETA:1h41m56s]\n",
      "FILE: /Users/santannajj/Dropbox/honeypot-mikrotik/data-analysis/analysis_mikrotik_shodan/../../../../shodan_raw_2019-08-14.json.gz\n",
      "-------------------------------------------------------------------------------\n",
      "\n",
      " *** Download Progress Summary as of Thu Aug 15 16:10:57 2019 ***              45m6s\u001b[0m\u001b[35m]\u001b[0m\u001b[0mm\n",
      "===============================================================================\n",
      "[#da35e1 5.7GiB/123GiB(4%) CN:4 DL:18MiB ETA:1h46m29s]\n",
      "FILE: /Users/santannajj/Dropbox/honeypot-mikrotik/data-analysis/analysis_mikrotik_shodan/../../../../shodan_raw_2019-08-14.json.gz\n",
      "-------------------------------------------------------------------------------\n",
      "\n",
      " *** Download Progress Summary as of Thu Aug 15 16:11:58 2019 ***              42m59s\u001b[0m\u001b[35m]\u001b[0m\u001b[0m\n",
      "===============================================================================\n",
      "[#da35e1 6.9GiB/123GiB(5%) CN:4 DL:19MiB ETA:1h43m3s]\n",
      "FILE: /Users/santannajj/Dropbox/honeypot-mikrotik/data-analysis/analysis_mikrotik_shodan/../../../../shodan_raw_2019-08-14.json.gz\n",
      "-------------------------------------------------------------------------------\n",
      "\n",
      " *** Download Progress Summary as of Thu Aug 15 16:12:58 2019 ***              34m48s\u001b[0m\u001b[35m]\u001b[0m\u001b[0m\n",
      "===============================================================================\n",
      "[#da35e1 8.1GiB/123GiB(6%) CN:4 DL:20MiB ETA:1h37m4s]\n",
      "FILE: /Users/santannajj/Dropbox/honeypot-mikrotik/data-analysis/analysis_mikrotik_shodan/../../../../shodan_raw_2019-08-14.json.gz\n",
      "-------------------------------------------------------------------------------\n",
      "\n",
      " *** Download Progress Summary as of Thu Aug 15 16:13:59 2019 ***              41m31s\u001b[0m\u001b[35m]\u001b[0m\u001b[0m\n",
      "===============================================================================\n",
      "[#da35e1 9.4GiB/123GiB(7%) CN:4 DL:19MiB ETA:1h39m39s]\n",
      "FILE: /Users/santannajj/Dropbox/honeypot-mikrotik/data-analysis/analysis_mikrotik_shodan/../../../../shodan_raw_2019-08-14.json.gz\n",
      "-------------------------------------------------------------------------------\n",
      "\n",
      " *** Download Progress Summary as of Thu Aug 15 16:15:00 2019 ***              8m58s\u001b[0m\u001b[35m]\u001b[0m\u001b[0mm\n",
      "===============================================================================\n",
      "[#da35e1 10GiB/123GiB(8%) CN:4 DL:19MiB ETA:1h39m18s]\n",
      "FILE: /Users/santannajj/Dropbox/honeypot-mikrotik/data-analysis/analysis_mikrotik_shodan/../../../../shodan_raw_2019-08-14.json.gz\n",
      "-------------------------------------------------------------------------------\n",
      "\n",
      " *** Download Progress Summary as of Thu Aug 15 16:16:01 2019 ***              5m36s\u001b[0m\u001b[35m]\u001b[0m\u001b[0m\n",
      "===============================================================================\n",
      "[#da35e1 11GiB/123GiB(9%) CN:4 DL:21MiB ETA:1h30m29s]\n",
      "FILE: /Users/santannajj/Dropbox/honeypot-mikrotik/data-analysis/analysis_mikrotik_shodan/../../../../shodan_raw_2019-08-14.json.gz\n",
      "-------------------------------------------------------------------------------\n",
      "\n",
      " *** Download Progress Summary as of Thu Aug 15 16:17:01 2019 ***              29m56s\u001b[0m\u001b[35m]\u001b[0m\u001b[0m\n",
      "===============================================================================\n",
      "[#da35e1 13GiB/123GiB(10%) CN:4 DL:21MiB ETA:1h29m2s]\n",
      "FILE: /Users/santannajj/Dropbox/honeypot-mikrotik/data-analysis/analysis_mikrotik_shodan/../../../../shodan_raw_2019-08-14.json.gz\n",
      "-------------------------------------------------------------------------------\n",
      "\n",
      " *** Download Progress Summary as of Thu Aug 15 16:18:02 2019 ***              21m32s\u001b[0m\u001b[35m]\u001b[0m\u001b[0m\n",
      "===============================================================================\n",
      "[#da35e1 14GiB/123GiB(11%) CN:4 DL:23MiB ETA:1h20m31s]\n",
      "FILE: /Users/santannajj/Dropbox/honeypot-mikrotik/data-analysis/analysis_mikrotik_shodan/../../../../shodan_raw_2019-08-14.json.gz\n",
      "-------------------------------------------------------------------------------\n",
      "\n",
      " *** Download Progress Summary as of Thu Aug 15 16:19:02 2019 ***              23m49s\u001b[0m\u001b[35m]\u001b[0m\u001b[0m\n",
      "===============================================================================\n",
      "[#da35e1 15GiB/123GiB(12%) CN:4 DL:21MiB ETA:1h26m44s]\n",
      "FILE: /Users/santannajj/Dropbox/honeypot-mikrotik/data-analysis/analysis_mikrotik_shodan/../../../../shodan_raw_2019-08-14.json.gz\n",
      "-------------------------------------------------------------------------------\n",
      "\n",
      " *** Download Progress Summary as of Thu Aug 15 16:20:03 2019 ***              30m26s\u001b[0m\u001b[35m]\u001b[0m\u001b[0m\n",
      "===============================================================================\n",
      "[#da35e1 17GiB/123GiB(13%) CN:4 DL:20MiB ETA:1h26m54s]\n",
      "FILE: /Users/santannajj/Dropbox/honeypot-mikrotik/data-analysis/analysis_mikrotik_shodan/../../../../shodan_raw_2019-08-14.json.gz\n",
      "-------------------------------------------------------------------------------\n",
      "\n",
      " *** Download Progress Summary as of Thu Aug 15 16:21:03 2019 ***              28m21s\u001b[0m\u001b[35m]\u001b[0m\u001b[0m\n",
      "===============================================================================\n",
      "[#da35e1 18GiB/123GiB(14%) CN:4 DL:20MiB ETA:1h29m31s]\n",
      "FILE: /Users/santannajj/Dropbox/honeypot-mikrotik/data-analysis/analysis_mikrotik_shodan/../../../../shodan_raw_2019-08-14.json.gz\n",
      "-------------------------------------------------------------------------------\n",
      "\n"
     ]
    },
    {
     "name": "stdout",
     "output_type": "stream",
     "text": [
      " *** Download Progress Summary as of Thu Aug 15 16:22:04 2019 ***              31m19s\u001b[0m\u001b[35m]\u001b[0m\u001b[0m\n",
      "===============================================================================\n",
      "[#da35e1 19GiB/123GiB(15%) CN:4 DL:19MiB ETA:1h32m31s]\n",
      "FILE: /Users/santannajj/Dropbox/honeypot-mikrotik/data-analysis/analysis_mikrotik_shodan/../../../../shodan_raw_2019-08-14.json.gz\n",
      "-------------------------------------------------------------------------------\n",
      "\n",
      " *** Download Progress Summary as of Thu Aug 15 16:23:04 2019 ***              23m13s\u001b[0m\u001b[35m]\u001b[0m\u001b[0m\n",
      "===============================================================================\n",
      "[#da35e1 20GiB/123GiB(16%) CN:4 DL:21MiB ETA:1h22m35s]\n",
      "FILE: /Users/santannajj/Dropbox/honeypot-mikrotik/data-analysis/analysis_mikrotik_shodan/../../../../shodan_raw_2019-08-14.json.gz\n",
      "-------------------------------------------------------------------------------\n",
      "\n",
      " *** Download Progress Summary as of Thu Aug 15 16:24:05 2019 ***              38m28s\u001b[0m\u001b[35m]\u001b[0m\u001b[0m\n",
      "===============================================================================\n",
      "[#da35e1 22GiB/123GiB(17%) CN:4 DL:18MiB ETA:1h35m47s]\n",
      "FILE: /Users/santannajj/Dropbox/honeypot-mikrotik/data-analysis/analysis_mikrotik_shodan/../../../../shodan_raw_2019-08-14.json.gz\n",
      "-------------------------------------------------------------------------------\n",
      "\n",
      " *** Download Progress Summary as of Thu Aug 15 16:25:05 2019 ***              29m4s\u001b[0m\u001b[35m]\u001b[0m\u001b[0mm\n",
      "===============================================================================\n",
      "[#da35e1 23GiB/123GiB(18%) CN:4 DL:19MiB ETA:1h29m8s]\n",
      "FILE: /Users/santannajj/Dropbox/honeypot-mikrotik/data-analysis/analysis_mikrotik_shodan/../../../../shodan_raw_2019-08-14.json.gz\n",
      "-------------------------------------------------------------------------------\n",
      "\n",
      " *** Download Progress Summary as of Thu Aug 15 16:26:06 2019 ***              25m25s\u001b[0m\u001b[35m]\u001b[0m\u001b[0m\n",
      "===============================================================================\n",
      "[#da35e1 24GiB/123GiB(19%) CN:4 DL:20MiB ETA:1h24m17s]\n",
      "FILE: /Users/santannajj/Dropbox/honeypot-mikrotik/data-analysis/analysis_mikrotik_shodan/../../../../shodan_raw_2019-08-14.json.gz\n",
      "-------------------------------------------------------------------------------\n",
      "\n",
      " *** Download Progress Summary as of Thu Aug 15 16:27:06 2019 ***              22m36s\u001b[0m\u001b[35m]\u001b[0m\u001b[0m\n",
      "===============================================================================\n",
      "[#da35e1 25GiB/123GiB(20%) CN:4 DL:20MiB ETA:1h23m44s]\n",
      "FILE: /Users/santannajj/Dropbox/honeypot-mikrotik/data-analysis/analysis_mikrotik_shodan/../../../../shodan_raw_2019-08-14.json.gz\n",
      "-------------------------------------------------------------------------------\n",
      "\n",
      " *** Download Progress Summary as of Thu Aug 15 16:28:07 2019 ***              31m26s\u001b[0m\u001b[35m]\u001b[0m\u001b[0m\n",
      "===============================================================================\n",
      "[#da35e1 26GiB/123GiB(21%) CN:4 DL:18MiB ETA:1h29m45s]\n",
      "FILE: /Users/santannajj/Dropbox/honeypot-mikrotik/data-analysis/analysis_mikrotik_shodan/../../../../shodan_raw_2019-08-14.json.gz\n",
      "-------------------------------------------------------------------------------\n",
      "\n",
      " *** Download Progress Summary as of Thu Aug 15 16:29:07 2019 ***              32m56s\u001b[0m\u001b[35m]\u001b[0m\u001b[0m\n",
      "===============================================================================\n",
      "[#da35e1 27GiB/123GiB(22%) CN:4 DL:18MiB ETA:1h29m4s]\n",
      "FILE: /Users/santannajj/Dropbox/honeypot-mikrotik/data-analysis/analysis_mikrotik_shodan/../../../../shodan_raw_2019-08-14.json.gz\n",
      "-------------------------------------------------------------------------------\n",
      "\n",
      " *** Download Progress Summary as of Thu Aug 15 16:30:07 2019 ***              27m8s\u001b[0m\u001b[35m]\u001b[0m\u001b[0mm\n",
      "===============================================================================\n",
      "[#da35e1 28GiB/123GiB(23%) CN:4 DL:18MiB ETA:1h26m8s]\n",
      "FILE: /Users/santannajj/Dropbox/honeypot-mikrotik/data-analysis/analysis_mikrotik_shodan/../../../../shodan_raw_2019-08-14.json.gz\n",
      "-------------------------------------------------------------------------------\n",
      "\n",
      " *** Download Progress Summary as of Thu Aug 15 16:31:08 2019 ***              17m9s\u001b[0m\u001b[35m]\u001b[0m\u001b[0mm\n",
      "===============================================================================\n",
      "[#da35e1 29GiB/123GiB(24%) CN:4 DL:20MiB ETA:1h16m54s]\n",
      "FILE: /Users/santannajj/Dropbox/honeypot-mikrotik/data-analysis/analysis_mikrotik_shodan/../../../../shodan_raw_2019-08-14.json.gz\n",
      "-------------------------------------------------------------------------------\n",
      "\n",
      " *** Download Progress Summary as of Thu Aug 15 16:32:09 2019 ***              27m8s\u001b[0m\u001b[35m]\u001b[0m\u001b[0mm\n",
      "===============================================================================\n",
      "[#da35e1 30GiB/123GiB(25%) CN:4 DL:18MiB ETA:1h23m26s]\n",
      "FILE: /Users/santannajj/Dropbox/honeypot-mikrotik/data-analysis/analysis_mikrotik_shodan/../../../../shodan_raw_2019-08-14.json.gz\n",
      "-------------------------------------------------------------------------------\n",
      "\n",
      " *** Download Progress Summary as of Thu Aug 15 16:33:09 2019 ***              30m6s\u001b[0m\u001b[35m]\u001b[0m\u001b[0mm\n",
      "===============================================================================\n",
      "[#da35e1 32GiB/123GiB(25%) CN:4 DL:17MiB ETA:1h30m16s]\n",
      "FILE: /Users/santannajj/Dropbox/honeypot-mikrotik/data-analysis/analysis_mikrotik_shodan/../../../../shodan_raw_2019-08-14.json.gz\n",
      "-------------------------------------------------------------------------------\n",
      "\n",
      " *** Download Progress Summary as of Thu Aug 15 16:34:10 2019 ***              28m50s\u001b[0m\u001b[35m]\u001b[0m\u001b[0m\n",
      "===============================================================================\n",
      "[#da35e1 33GiB/123GiB(26%) CN:4 DL:17MiB ETA:1h27m50s]\n",
      "FILE: /Users/santannajj/Dropbox/honeypot-mikrotik/data-analysis/analysis_mikrotik_shodan/../../../../shodan_raw_2019-08-14.json.gz\n",
      "-------------------------------------------------------------------------------\n",
      "\n",
      " *** Download Progress Summary as of Thu Aug 15 16:35:11 2019 ***              23m3s\u001b[0m\u001b[35m]\u001b[0m\u001b[0mm\n",
      "===============================================================================\n",
      "[#da35e1 34GiB/123GiB(27%) CN:4 DL:18MiB ETA:1h22m7s]\n",
      "FILE: /Users/santannajj/Dropbox/honeypot-mikrotik/data-analysis/analysis_mikrotik_shodan/../../../../shodan_raw_2019-08-14.json.gz\n",
      "-------------------------------------------------------------------------------\n",
      "\n",
      " *** Download Progress Summary as of Thu Aug 15 16:36:11 2019 ***              26m10s\u001b[0m\u001b[35m]\u001b[0m\u001b[0m\n",
      "===============================================================================\n",
      "[#da35e1 35GiB/123GiB(28%) CN:4 DL:17MiB ETA:1h26m40s]\n",
      "FILE: /Users/santannajj/Dropbox/honeypot-mikrotik/data-analysis/analysis_mikrotik_shodan/../../../../shodan_raw_2019-08-14.json.gz\n",
      "-------------------------------------------------------------------------------\n",
      "\n",
      " *** Download Progress Summary as of Thu Aug 15 16:37:11 2019 ***              24m32s\u001b[0m\u001b[35m]\u001b[0m\u001b[0m\n",
      "===============================================================================\n",
      "[#da35e1 36GiB/123GiB(29%) CN:4 DL:17MiB ETA:1h23m37s]\n",
      "FILE: /Users/santannajj/Dropbox/honeypot-mikrotik/data-analysis/analysis_mikrotik_shodan/../../../../shodan_raw_2019-08-14.json.gz\n",
      "-------------------------------------------------------------------------------\n",
      "\n",
      " *** Download Progress Summary as of Thu Aug 15 16:38:12 2019 ***              25m7s\u001b[0m\u001b[35m]\u001b[0m\u001b[0mm\n",
      "===============================================================================\n",
      "[#da35e1 37GiB/123GiB(30%) CN:4 DL:17MiB ETA:1h23m59s]\n",
      "FILE: /Users/santannajj/Dropbox/honeypot-mikrotik/data-analysis/analysis_mikrotik_shodan/../../../../shodan_raw_2019-08-14.json.gz\n",
      "-------------------------------------------------------------------------------\n",
      "\n",
      " *** Download Progress Summary as of Thu Aug 15 16:39:13 2019 ***              12m3s\u001b[0m\u001b[35m]\u001b[0m\u001b[0mm\n",
      "===============================================================================\n",
      "[#da35e1 39GiB/123GiB(31%) CN:4 DL:19MiB ETA:1h13m31s]\n",
      "FILE: /Users/santannajj/Dropbox/honeypot-mikrotik/data-analysis/analysis_mikrotik_shodan/../../../../shodan_raw_2019-08-14.json.gz\n",
      "-------------------------------------------------------------------------------\n",
      "\n",
      " *** Download Progress Summary as of Thu Aug 15 16:40:13 2019 ***              10m55s\u001b[0m\u001b[35m]\u001b[0m\u001b[0m\n",
      "===============================================================================\n",
      "[#da35e1 40GiB/123GiB(32%) CN:4 DL:19MiB ETA:1h13m51s]\n",
      "FILE: /Users/santannajj/Dropbox/honeypot-mikrotik/data-analysis/analysis_mikrotik_shodan/../../../../shodan_raw_2019-08-14.json.gz\n",
      "-------------------------------------------------------------------------------\n",
      "\n",
      " *** Download Progress Summary as of Thu Aug 15 16:41:13 2019 ***              2m59s\u001b[0m\u001b[35m]\u001b[0m\u001b[0mm\n",
      "===============================================================================\n",
      "[#da35e1 41GiB/123GiB(33%) CN:4 DL:21MiB ETA:1h4m1s]\n",
      "FILE: /Users/santannajj/Dropbox/honeypot-mikrotik/data-analysis/analysis_mikrotik_shodan/../../../../shodan_raw_2019-08-14.json.gz\n",
      "-------------------------------------------------------------------------------\n",
      "\n",
      " *** Download Progress Summary as of Thu Aug 15 16:42:14 2019 ***              6m57s\u001b[0m\u001b[35m]\u001b[0m\u001b[0mm\n",
      "===============================================================================\n",
      "[#da35e1 42GiB/123GiB(34%) CN:4 DL:21MiB ETA:1h5m43s]\n",
      "FILE: /Users/santannajj/Dropbox/honeypot-mikrotik/data-analysis/analysis_mikrotik_shodan/../../../../shodan_raw_2019-08-14.json.gz\n",
      "-------------------------------------------------------------------------------\n",
      "\n",
      " *** Download Progress Summary as of Thu Aug 15 16:43:14 2019 ***              5m16s\u001b[0m\u001b[35m]\u001b[0m\u001b[0mm\n",
      "===============================================================================\n",
      "[#da35e1 43GiB/123GiB(35%) CN:4 DL:20MiB ETA:1h5m19s]\n",
      "FILE: /Users/santannajj/Dropbox/honeypot-mikrotik/data-analysis/analysis_mikrotik_shodan/../../../../shodan_raw_2019-08-14.json.gz\n",
      "-------------------------------------------------------------------------------\n",
      "\n",
      " *** Download Progress Summary as of Thu Aug 15 16:44:15 2019 ***              3m19s\u001b[0m\u001b[35m]\u001b[0m\u001b[0mm\n",
      "===============================================================================\n",
      "[#da35e1 45GiB/123GiB(36%) CN:4 DL:21MiB ETA:1h3m4s]\n",
      "FILE: /Users/santannajj/Dropbox/honeypot-mikrotik/data-analysis/analysis_mikrotik_shodan/../../../../shodan_raw_2019-08-14.json.gz\n",
      "-------------------------------------------------------------------------------\n",
      "\n",
      " *** Download Progress Summary as of Thu Aug 15 16:45:16 2019 ***              13m2s\u001b[0m\u001b[35m]\u001b[0m\u001b[0mm\n",
      "===============================================================================\n",
      "[#da35e1 46GiB/123GiB(37%) CN:4 DL:19MiB ETA:1h9m24s]\n",
      "FILE: /Users/santannajj/Dropbox/honeypot-mikrotik/data-analysis/analysis_mikrotik_shodan/../../../../shodan_raw_2019-08-14.json.gz\n",
      "-------------------------------------------------------------------------------\n",
      "\n",
      " *** Download Progress Summary as of Thu Aug 15 16:46:16 2019 ***              m53s\u001b[0m\u001b[35m]\u001b[0m\u001b[0mmm\n",
      "===============================================================================\n",
      "[#da35e1 47GiB/123GiB(38%) CN:4 DL:22MiB ETA:57m42s]\n",
      "FILE: /Users/santannajj/Dropbox/honeypot-mikrotik/data-analysis/analysis_mikrotik_shodan/../../../../shodan_raw_2019-08-14.json.gz\n",
      "-------------------------------------------------------------------------------\n",
      "\n",
      " *** Download Progress Summary as of Thu Aug 15 16:47:17 2019 ***              m\u001b[0m\u001b[35m]\u001b[0m\u001b[0m[0mmm\n",
      "===============================================================================\n",
      "[#da35e1 48GiB/123GiB(39%) CN:4 DL:23MiB ETA:55m36s]\n",
      "FILE: /Users/santannajj/Dropbox/honeypot-mikrotik/data-analysis/analysis_mikrotik_shodan/../../../../shodan_raw_2019-08-14.json.gz\n",
      "-------------------------------------------------------------------------------\n",
      "\n",
      " *** Download Progress Summary as of Thu Aug 15 16:48:18 2019 ***              m10s\u001b[0m\u001b[35m]\u001b[0m\u001b[0mmm\n",
      "===============================================================================\n",
      "[#da35e1 49GiB/123GiB(40%) CN:4 DL:23MiB ETA:53m42s]\n",
      "FILE: /Users/santannajj/Dropbox/honeypot-mikrotik/data-analysis/analysis_mikrotik_shodan/../../../../shodan_raw_2019-08-14.json.gz\n",
      "-------------------------------------------------------------------------------\n",
      "\n",
      " *** Download Progress Summary as of Thu Aug 15 16:49:18 2019 ***              7m29s\u001b[0m\u001b[35m]\u001b[0m\u001b[0m\n",
      "===============================================================================\n",
      "[#da35e1 51GiB/123GiB(41%) CN:4 DL:18MiB ETA:1h5m33s]\n",
      "FILE: /Users/santannajj/Dropbox/honeypot-mikrotik/data-analysis/analysis_mikrotik_shodan/../../../../shodan_raw_2019-08-14.json.gz\n",
      "-------------------------------------------------------------------------------\n",
      "\n",
      " *** Download Progress Summary as of Thu Aug 15 16:50:19 2019 ***              m42s\u001b[0m\u001b[35m]\u001b[0m\u001b[0mm\n",
      "===============================================================================\n",
      "[#da35e1 52GiB/123GiB(42%) CN:4 DL:20MiB ETA:59m31s]\n",
      "FILE: /Users/santannajj/Dropbox/honeypot-mikrotik/data-analysis/analysis_mikrotik_shodan/../../../../shodan_raw_2019-08-14.json.gz\n",
      "-------------------------------------------------------------------------------\n",
      "\n",
      " *** Download Progress Summary as of Thu Aug 15 16:51:19 2019 ***              5m46s\u001b[0m\u001b[35m]\u001b[0m\u001b[0mm\n",
      "===============================================================================\n",
      "[#da35e1 53GiB/123GiB(43%) CN:4 DL:18MiB ETA:1h6m19s]\n",
      "FILE: /Users/santannajj/Dropbox/honeypot-mikrotik/data-analysis/analysis_mikrotik_shodan/../../../../shodan_raw_2019-08-14.json.gz\n",
      "-------------------------------------------------------------------------------\n",
      "\n",
      " *** Download Progress Summary as of Thu Aug 15 16:52:20 2019 ***              m21s\u001b[0m\u001b[35m]\u001b[0m\u001b[0mmm\n",
      "===============================================================================\n",
      "[#da35e1 54GiB/123GiB(43%) CN:4 DL:20MiB ETA:57m3s]\n",
      "FILE: /Users/santannajj/Dropbox/honeypot-mikrotik/data-analysis/analysis_mikrotik_shodan/../../../../shodan_raw_2019-08-14.json.gz\n",
      "-------------------------------------------------------------------------------\n",
      "\n",
      " *** Download Progress Summary as of Thu Aug 15 16:53:20 2019 ***              5m47s\u001b[0m\u001b[35m]\u001b[0m\u001b[0m\n",
      "===============================================================================\n",
      "[#da35e1 55GiB/123GiB(44%) CN:4 DL:16MiB ETA:1h9m34s]\n",
      "FILE: /Users/santannajj/Dropbox/honeypot-mikrotik/data-analysis/analysis_mikrotik_shodan/../../../../shodan_raw_2019-08-14.json.gz\n",
      "-------------------------------------------------------------------------------\n",
      "\n",
      " *** Download Progress Summary as of Thu Aug 15 16:54:21 2019 ***              m45s\u001b[0m\u001b[35m]\u001b[0m\u001b[0mm\n",
      "===============================================================================\n",
      "[#da35e1 56GiB/123GiB(45%) CN:4 DL:19MiB ETA:58m8s]\n",
      "FILE: /Users/santannajj/Dropbox/honeypot-mikrotik/data-analysis/analysis_mikrotik_shodan/../../../../shodan_raw_2019-08-14.json.gz\n",
      "-------------------------------------------------------------------------------\n",
      "\n",
      " *** Download Progress Summary as of Thu Aug 15 16:55:21 2019 ***              m4s\u001b[0m\u001b[35m]\u001b[0m\u001b[0mmm\n",
      "===============================================================================\n",
      "[#da35e1 58GiB/123GiB(46%) CN:4 DL:21MiB ETA:51m22s]\n",
      "FILE: /Users/santannajj/Dropbox/honeypot-mikrotik/data-analysis/analysis_mikrotik_shodan/../../../../shodan_raw_2019-08-14.json.gz\n",
      "-------------------------------------------------------------------------------\n",
      "\n",
      " *** Download Progress Summary as of Thu Aug 15 16:56:22 2019 ***              m11s\u001b[0m\u001b[35m]\u001b[0m\u001b[0m\n",
      "===============================================================================\n",
      "[#da35e1 59GiB/123GiB(47%) CN:4 DL:18MiB ETA:59m24s]\n",
      "FILE: /Users/santannajj/Dropbox/honeypot-mikrotik/data-analysis/analysis_mikrotik_shodan/../../../../shodan_raw_2019-08-14.json.gz\n",
      "-------------------------------------------------------------------------------\n",
      "\n",
      " *** Download Progress Summary as of Thu Aug 15 16:57:22 2019 ***              m56s\u001b[0m\u001b[35m]\u001b[0m\u001b[0m\n",
      "===============================================================================\n",
      "[#da35e1 60GiB/123GiB(48%) CN:4 DL:20MiB ETA:52m56s]\n",
      "FILE: /Users/santannajj/Dropbox/honeypot-mikrotik/data-analysis/analysis_mikrotik_shodan/../../../../shodan_raw_2019-08-14.json.gz\n",
      "-------------------------------------------------------------------------------\n",
      "\n",
      " *** Download Progress Summary as of Thu Aug 15 16:58:23 2019 ***              m17s\u001b[0m\u001b[35m]\u001b[0m\u001b[0m\n",
      "===============================================================================\n",
      "[#da35e1 61GiB/123GiB(49%) CN:4 DL:20MiB ETA:50m28s]\n",
      "FILE: /Users/santannajj/Dropbox/honeypot-mikrotik/data-analysis/analysis_mikrotik_shodan/../../../../shodan_raw_2019-08-14.json.gz\n",
      "-------------------------------------------------------------------------------\n",
      "\n"
     ]
    },
    {
     "name": "stdout",
     "output_type": "stream",
     "text": [
      " *** Download Progress Summary as of Thu Aug 15 16:59:24 2019 ***              m38s\u001b[0m\u001b[35m]\u001b[0m\u001b[0m\n",
      "===============================================================================\n",
      "[#da35e1 62GiB/123GiB(50%) CN:4 DL:19MiB ETA:54m1s]\n",
      "FILE: /Users/santannajj/Dropbox/honeypot-mikrotik/data-analysis/analysis_mikrotik_shodan/../../../../shodan_raw_2019-08-14.json.gz\n",
      "-------------------------------------------------------------------------------\n",
      "\n",
      " *** Download Progress Summary as of Thu Aug 15 17:00:24 2019 ***              m2s\u001b[0m\u001b[35m]\u001b[0m\u001b[0mm\n",
      "===============================================================================\n",
      "[#da35e1 64GiB/123GiB(51%) CN:4 DL:19MiB ETA:52m39s]\n",
      "FILE: /Users/santannajj/Dropbox/honeypot-mikrotik/data-analysis/analysis_mikrotik_shodan/../../../../shodan_raw_2019-08-14.json.gz\n",
      "-------------------------------------------------------------------------------\n",
      "\n",
      " *** Download Progress Summary as of Thu Aug 15 17:01:25 2019 ***              m40s\u001b[0m\u001b[35m]\u001b[0m\u001b[0m\n",
      "===============================================================================\n",
      "[#da35e1 65GiB/123GiB(52%) CN:4 DL:20MiB ETA:49m8s]\n",
      "FILE: /Users/santannajj/Dropbox/honeypot-mikrotik/data-analysis/analysis_mikrotik_shodan/../../../../shodan_raw_2019-08-14.json.gz\n",
      "-------------------------------------------------------------------------------\n",
      "\n",
      " *** Download Progress Summary as of Thu Aug 15 17:02:26 2019 ***              m55s\u001b[0m\u001b[35m]\u001b[0m\u001b[0m\n",
      "===============================================================================\n",
      "[#da35e1 66GiB/123GiB(53%) CN:4 DL:18MiB ETA:52m15s]\n",
      "FILE: /Users/santannajj/Dropbox/honeypot-mikrotik/data-analysis/analysis_mikrotik_shodan/../../../../shodan_raw_2019-08-14.json.gz\n",
      "-------------------------------------------------------------------------------\n",
      "\n",
      " *** Download Progress Summary as of Thu Aug 15 17:03:26 2019 ***              m59s\u001b[0m\u001b[35m]\u001b[0m\u001b[0m\n",
      "===============================================================================\n",
      "[#da35e1 67GiB/123GiB(54%) CN:4 DL:21MiB ETA:44m37s]\n",
      "FILE: /Users/santannajj/Dropbox/honeypot-mikrotik/data-analysis/analysis_mikrotik_shodan/../../../../shodan_raw_2019-08-14.json.gz\n",
      "-------------------------------------------------------------------------------\n",
      "\n",
      " *** Download Progress Summary as of Thu Aug 15 17:04:27 2019 ***              m45s\u001b[0m\u001b[35m]\u001b[0m\u001b[0m\n",
      "===============================================================================\n",
      "[#da35e1 68GiB/123GiB(55%) CN:4 DL:19MiB ETA:49m15s]\n",
      "FILE: /Users/santannajj/Dropbox/honeypot-mikrotik/data-analysis/analysis_mikrotik_shodan/../../../../shodan_raw_2019-08-14.json.gz\n",
      "-------------------------------------------------------------------------------\n",
      "\n",
      " *** Download Progress Summary as of Thu Aug 15 17:05:27 2019 ***              m44s\u001b[0m\u001b[35m]\u001b[0m\u001b[0m\n",
      "===============================================================================\n",
      "[#da35e1 70GiB/123GiB(56%) CN:4 DL:21MiB ETA:43m9s]\n",
      "FILE: /Users/santannajj/Dropbox/honeypot-mikrotik/data-analysis/analysis_mikrotik_shodan/../../../../shodan_raw_2019-08-14.json.gz\n",
      "-------------------------------------------------------------------------------\n",
      "\n",
      " *** Download Progress Summary as of Thu Aug 15 17:06:28 2019 ***              m33s\u001b[0m\u001b[35m]\u001b[0m\u001b[0m\n",
      "===============================================================================\n",
      "[#da35e1 71GiB/123GiB(57%) CN:4 DL:21MiB ETA:40m59s]\n",
      "FILE: /Users/santannajj/Dropbox/honeypot-mikrotik/data-analysis/analysis_mikrotik_shodan/../../../../shodan_raw_2019-08-14.json.gz\n",
      "-------------------------------------------------------------------------------\n",
      "\n",
      " *** Download Progress Summary as of Thu Aug 15 17:07:29 2019 ***              m29s\u001b[0m\u001b[35m]\u001b[0m\u001b[0m\n",
      "===============================================================================\n",
      "[#da35e1 72GiB/123GiB(58%) CN:4 DL:20MiB ETA:42m6s]\n",
      "FILE: /Users/santannajj/Dropbox/honeypot-mikrotik/data-analysis/analysis_mikrotik_shodan/../../../../shodan_raw_2019-08-14.json.gz\n",
      "-------------------------------------------------------------------------------\n",
      "\n",
      " *** Download Progress Summary as of Thu Aug 15 17:08:30 2019 ***              m10s\u001b[0m\u001b[35m]\u001b[0m\u001b[0m\n",
      "===============================================================================\n",
      "[#da35e1 73GiB/123GiB(59%) CN:4 DL:21MiB ETA:40m23s]\n",
      "FILE: /Users/santannajj/Dropbox/honeypot-mikrotik/data-analysis/analysis_mikrotik_shodan/../../../../shodan_raw_2019-08-14.json.gz\n",
      "-------------------------------------------------------------------------------\n",
      "\n",
      " *** Download Progress Summary as of Thu Aug 15 17:09:30 2019 ***              m42s\u001b[0m\u001b[35m]\u001b[0m\u001b[0m\n",
      "===============================================================================\n",
      "[#da35e1 74GiB/123GiB(60%) CN:4 DL:19MiB ETA:42m54s]\n",
      "FILE: /Users/santannajj/Dropbox/honeypot-mikrotik/data-analysis/analysis_mikrotik_shodan/../../../../shodan_raw_2019-08-14.json.gz\n",
      "-------------------------------------------------------------------------------\n",
      "\n",
      " *** Download Progress Summary as of Thu Aug 15 17:10:30 2019 ***              m17s\u001b[0m\u001b[35m]\u001b[0m\u001b[0m\n",
      "===============================================================================\n",
      "[#da35e1 76GiB/123GiB(61%) CN:4 DL:23MiB ETA:34m31s]\n",
      "FILE: /Users/santannajj/Dropbox/honeypot-mikrotik/data-analysis/analysis_mikrotik_shodan/../../../../shodan_raw_2019-08-14.json.gz\n",
      "-------------------------------------------------------------------------------\n",
      "\n",
      " *** Download Progress Summary as of Thu Aug 15 17:11:31 2019 ***              m33s\u001b[0m\u001b[35m]\u001b[0m\u001b[0m\n",
      "===============================================================================\n",
      "[#da35e1 77GiB/123GiB(62%) CN:4 DL:21MiB ETA:37m35s]\n",
      "FILE: /Users/santannajj/Dropbox/honeypot-mikrotik/data-analysis/analysis_mikrotik_shodan/../../../../shodan_raw_2019-08-14.json.gz\n",
      "-------------------------------------------------------------------------------\n",
      "\n",
      " *** Download Progress Summary as of Thu Aug 15 17:12:31 2019 ***              m51s\u001b[0m\u001b[35m]\u001b[0m\u001b[0m\n",
      "===============================================================================\n",
      "[#da35e1 78GiB/123GiB(63%) CN:4 DL:22MiB ETA:33m36s]\n",
      "FILE: /Users/santannajj/Dropbox/honeypot-mikrotik/data-analysis/analysis_mikrotik_shodan/../../../../shodan_raw_2019-08-14.json.gz\n",
      "-------------------------------------------------------------------------------\n",
      "\n",
      " *** Download Progress Summary as of Thu Aug 15 17:13:32 2019 ***              m25s\u001b[0m\u001b[35m]\u001b[0m\u001b[0m\n",
      "===============================================================================\n",
      "[#da35e1 79GiB/123GiB(64%) CN:4 DL:21MiB ETA:34m56s]\n",
      "FILE: /Users/santannajj/Dropbox/honeypot-mikrotik/data-analysis/analysis_mikrotik_shodan/../../../../shodan_raw_2019-08-14.json.gz\n",
      "-------------------------------------------------------------------------------\n",
      "\n",
      " *** Download Progress Summary as of Thu Aug 15 17:14:32 2019 ***              m45s\u001b[0m\u001b[35m]\u001b[0m\u001b[0m\n",
      "===============================================================================\n",
      "[#da35e1 81GiB/123GiB(65%) CN:4 DL:19MiB ETA:37m20s]\n",
      "FILE: /Users/santannajj/Dropbox/honeypot-mikrotik/data-analysis/analysis_mikrotik_shodan/../../../../shodan_raw_2019-08-14.json.gz\n",
      "-------------------------------------------------------------------------------\n",
      "\n",
      " *** Download Progress Summary as of Thu Aug 15 17:15:33 2019 ***              m38s\u001b[0m\u001b[35m]\u001b[0m\u001b[0m\n",
      "===============================================================================\n",
      "[#da35e1 82GiB/123GiB(66%) CN:4 DL:22MiB ETA:32m2s]\n",
      "FILE: /Users/santannajj/Dropbox/honeypot-mikrotik/data-analysis/analysis_mikrotik_shodan/../../../../shodan_raw_2019-08-14.json.gz\n",
      "-------------------------------------------------------------------------------\n",
      "\n",
      " *** Download Progress Summary as of Thu Aug 15 17:16:33 2019 ***              m17s\u001b[0m\u001b[35m]\u001b[0m\u001b[0m\n",
      "===============================================================================\n",
      "[#da35e1 83GiB/123GiB(67%) CN:4 DL:20MiB ETA:34m9s]\n",
      "FILE: /Users/santannajj/Dropbox/honeypot-mikrotik/data-analysis/analysis_mikrotik_shodan/../../../../shodan_raw_2019-08-14.json.gz\n",
      "-------------------------------------------------------------------------------\n",
      "\n",
      " *** Download Progress Summary as of Thu Aug 15 17:17:34 2019 ***              m30s\u001b[0m\u001b[35m]\u001b[0m\u001b[0m\n",
      "===============================================================================\n",
      "[#da35e1 84GiB/123GiB(68%) CN:4 DL:20MiB ETA:31m40s]\n",
      "FILE: /Users/santannajj/Dropbox/honeypot-mikrotik/data-analysis/analysis_mikrotik_shodan/../../../../shodan_raw_2019-08-14.json.gz\n",
      "-------------------------------------------------------------------------------\n",
      "\n"
     ]
    },
    {
     "name": "stdout",
     "output_type": "stream",
     "text": [
      " *** Download Progress Summary as of Thu Aug 15 17:18:35 2019 ***              m55s\u001b[0m\u001b[35m]\u001b[0m\u001b[0m\n",
      "===============================================================================\n",
      "[#da35e1 86GiB/123GiB(69%) CN:4 DL:19MiB ETA:32m42s]\n",
      "FILE: /Users/santannajj/Dropbox/honeypot-mikrotik/data-analysis/analysis_mikrotik_shodan/../../../../shodan_raw_2019-08-14.json.gz\n",
      "-------------------------------------------------------------------------------\n",
      "\n",
      " *** Download Progress Summary as of Thu Aug 15 17:19:35 2019 ***              m58s\u001b[0m\u001b[35m]\u001b[0m\u001b[0m\n",
      "===============================================================================\n",
      "[#da35e1 87GiB/123GiB(70%) CN:4 DL:21MiB ETA:29m42s]\n",
      "FILE: /Users/santannajj/Dropbox/honeypot-mikrotik/data-analysis/analysis_mikrotik_shodan/../../../../shodan_raw_2019-08-14.json.gz\n",
      "-------------------------------------------------------------------------------\n",
      "\n",
      " *** Download Progress Summary as of Thu Aug 15 17:20:36 2019 ***              m28s\u001b[0m\u001b[35m]\u001b[0m\u001b[0m\n",
      "===============================================================================\n",
      "[#da35e1 88GiB/123GiB(71%) CN:4 DL:23MiB ETA:25m38s]\n",
      "FILE: /Users/santannajj/Dropbox/honeypot-mikrotik/data-analysis/analysis_mikrotik_shodan/../../../../shodan_raw_2019-08-14.json.gz\n",
      "-------------------------------------------------------------------------------\n",
      "\n",
      " *** Download Progress Summary as of Thu Aug 15 17:21:36 2019 ***              m47s\u001b[0m\u001b[35m]\u001b[0m\u001b[0m\n",
      "===============================================================================\n",
      "[#da35e1 89GiB/123GiB(72%) CN:4 DL:22MiB ETA:25m45s]\n",
      "FILE: /Users/santannajj/Dropbox/honeypot-mikrotik/data-analysis/analysis_mikrotik_shodan/../../../../shodan_raw_2019-08-14.json.gz\n",
      "-------------------------------------------------------------------------------\n",
      "\n",
      " *** Download Progress Summary as of Thu Aug 15 17:22:37 2019 ***              m1s\u001b[0m\u001b[35m]\u001b[0m\u001b[0mm\n",
      "===============================================================================\n",
      "[#da35e1 90GiB/123GiB(73%) CN:4 DL:21MiB ETA:26m22s]\n",
      "FILE: /Users/santannajj/Dropbox/honeypot-mikrotik/data-analysis/analysis_mikrotik_shodan/../../../../shodan_raw_2019-08-14.json.gz\n",
      "-------------------------------------------------------------------------------\n",
      "\n",
      " *** Download Progress Summary as of Thu Aug 15 17:23:37 2019 ***              m33s\u001b[0m\u001b[35m]\u001b[0m\u001b[0m\n",
      "===============================================================================\n",
      "[#da35e1 92GiB/123GiB(74%) CN:4 DL:18MiB ETA:28m37s]\n",
      "FILE: /Users/santannajj/Dropbox/honeypot-mikrotik/data-analysis/analysis_mikrotik_shodan/../../../../shodan_raw_2019-08-14.json.gz\n",
      "-------------------------------------------------------------------------------\n",
      "\n",
      " *** Download Progress Summary as of Thu Aug 15 17:24:38 2019 ***              m29s\u001b[0m\u001b[35m]\u001b[0m\u001b[0m\n",
      "===============================================================================\n",
      "[#da35e1 93GiB/123GiB(75%) CN:4 DL:22MiB ETA:23m21s]\n",
      "FILE: /Users/santannajj/Dropbox/honeypot-mikrotik/data-analysis/analysis_mikrotik_shodan/../../../../shodan_raw_2019-08-14.json.gz\n",
      "-------------------------------------------------------------------------------\n",
      "\n",
      " *** Download Progress Summary as of Thu Aug 15 17:25:39 2019 ***              m3s\u001b[0m\u001b[35m]\u001b[0m\u001b[0mm\n",
      "===============================================================================\n",
      "[#da35e1 94GiB/123GiB(76%) CN:4 DL:18MiB ETA:27m6s]\n",
      "FILE: /Users/santannajj/Dropbox/honeypot-mikrotik/data-analysis/analysis_mikrotik_shodan/../../../../shodan_raw_2019-08-14.json.gz\n",
      "-------------------------------------------------------------------------------\n",
      "\n",
      " *** Download Progress Summary as of Thu Aug 15 17:26:39 2019 ***              m53s\u001b[0m\u001b[35m]\u001b[0m\u001b[0m\n",
      "===============================================================================\n",
      "[#da35e1 95GiB/123GiB(77%) CN:4 DL:22MiB ETA:21m34s]\n",
      "FILE: /Users/santannajj/Dropbox/honeypot-mikrotik/data-analysis/analysis_mikrotik_shodan/../../../../shodan_raw_2019-08-14.json.gz\n",
      "-------------------------------------------------------------------------------\n",
      "\n",
      " *** Download Progress Summary as of Thu Aug 15 17:27:40 2019 ***              m36s\u001b[0m\u001b[35m]\u001b[0m\u001b[0m\n",
      "===============================================================================\n",
      "[#da35e1 97GiB/123GiB(78%) CN:4 DL:20MiB ETA:22m12s]\n",
      "FILE: /Users/santannajj/Dropbox/honeypot-mikrotik/data-analysis/analysis_mikrotik_shodan/../../../../shodan_raw_2019-08-14.json.gz\n",
      "-------------------------------------------------------------------------------\n",
      "\n",
      " *** Download Progress Summary as of Thu Aug 15 17:28:40 2019 ***              m17s\u001b[0m\u001b[35m]\u001b[0m\u001b[0m\n",
      "===============================================================================\n",
      "[#da35e1 98GiB/123GiB(79%) CN:4 DL:20MiB ETA:20m55s]\n",
      "FILE: /Users/santannajj/Dropbox/honeypot-mikrotik/data-analysis/analysis_mikrotik_shodan/../../../../shodan_raw_2019-08-14.json.gz\n",
      "-------------------------------------------------------------------------------\n",
      "\n",
      " *** Download Progress Summary as of Thu Aug 15 17:29:41 2019 ***              m52s\u001b[0m\u001b[35m]\u001b[0m\u001b[0m\n",
      "===============================================================================\n",
      "[#da35e1 99GiB/123GiB(80%) CN:4 DL:22MiB ETA:18m24s]\n",
      "FILE: /Users/santannajj/Dropbox/honeypot-mikrotik/data-analysis/analysis_mikrotik_shodan/../../../../shodan_raw_2019-08-14.json.gz\n",
      "-------------------------------------------------------------------------------\n",
      "\n",
      " *** Download Progress Summary as of Thu Aug 15 17:30:41 2019 ***              1m33s\u001b[0m\u001b[35m]\u001b[0m\u001b[0m\n",
      "===============================================================================\n",
      "[#da35e1 100GiB/123GiB(81%) CN:4 DL:18MiB ETA:21m27s]\n",
      "FILE: /Users/santannajj/Dropbox/honeypot-mikrotik/data-analysis/analysis_mikrotik_shodan/../../../../shodan_raw_2019-08-14.json.gz\n",
      "-------------------------------------------------------------------------------\n",
      "\n",
      " *** Download Progress Summary as of Thu Aug 15 17:31:42 2019 ***              5m51s\u001b[0m\u001b[35m]\u001b[0m\u001b[0m\n",
      "===============================================================================\n",
      "[#da35e1 102GiB/123GiB(82%) CN:4 DL:22MiB ETA:16m19s]\n",
      "FILE: /Users/santannajj/Dropbox/honeypot-mikrotik/data-analysis/analysis_mikrotik_shodan/../../../../shodan_raw_2019-08-14.json.gz\n",
      "-------------------------------------------------------------------------------\n",
      "\n",
      " *** Download Progress Summary as of Thu Aug 15 17:32:42 2019 ***              8m23s\u001b[0m\u001b[35m]\u001b[0m\u001b[0m\n",
      "===============================================================================\n",
      "[#da35e1 103GiB/123GiB(83%) CN:4 DL:18MiB ETA:18m49s]\n",
      "FILE: /Users/santannajj/Dropbox/honeypot-mikrotik/data-analysis/analysis_mikrotik_shodan/../../../../shodan_raw_2019-08-14.json.gz\n",
      "-------------------------------------------------------------------------------\n",
      "\n",
      " *** Download Progress Summary as of Thu Aug 15 17:33:43 2019 ***              5m11s\u001b[0m\u001b[35m]\u001b[0m\u001b[0m\n",
      "===============================================================================\n",
      "[#da35e1 104GiB/123GiB(84%) CN:4 DL:22MiB ETA:14m46s]\n",
      "FILE: /Users/santannajj/Dropbox/honeypot-mikrotik/data-analysis/analysis_mikrotik_shodan/../../../../shodan_raw_2019-08-14.json.gz\n",
      "-------------------------------------------------------------------------------\n",
      "\n",
      " *** Download Progress Summary as of Thu Aug 15 17:34:43 2019 ***              5m11s\u001b[0m\u001b[35m]\u001b[0m\u001b[0m\n",
      "===============================================================================\n",
      "[#da35e1 105GiB/123GiB(85%) CN:4 DL:20MiB ETA:15m12s]\n",
      "FILE: /Users/santannajj/Dropbox/honeypot-mikrotik/data-analysis/analysis_mikrotik_shodan/../../../../shodan_raw_2019-08-14.json.gz\n",
      "-------------------------------------------------------------------------------\n",
      "\n",
      " *** Download Progress Summary as of Thu Aug 15 17:35:44 2019 ***              3m55s\u001b[0m\u001b[35m]\u001b[0m\u001b[0m\n",
      "===============================================================================\n",
      "[#da35e1 107GiB/123GiB(86%) CN:4 DL:21MiB ETA:13m29s]\n",
      "FILE: /Users/santannajj/Dropbox/honeypot-mikrotik/data-analysis/analysis_mikrotik_shodan/../../../../shodan_raw_2019-08-14.json.gz\n",
      "-------------------------------------------------------------------------------\n",
      "\n",
      " *** Download Progress Summary as of Thu Aug 15 17:36:45 2019 ***              1m26s\u001b[0m\u001b[35m]\u001b[0m\u001b[0m\n",
      "===============================================================================\n",
      "[#da35e1 108GiB/123GiB(87%) CN:4 DL:22MiB ETA:11m57s]\n",
      "FILE: /Users/santannajj/Dropbox/honeypot-mikrotik/data-analysis/analysis_mikrotik_shodan/../../../../shodan_raw_2019-08-14.json.gz\n",
      "-------------------------------------------------------------------------------\n",
      "\n"
     ]
    },
    {
     "name": "stdout",
     "output_type": "stream",
     "text": [
      " *** Download Progress Summary as of Thu Aug 15 17:37:46 2019 ***              1m29s\u001b[0m\u001b[35m]\u001b[0m\u001b[0m\n",
      "===============================================================================\n",
      "[#da35e1 109GiB/123GiB(88%) CN:4 DL:21MiB ETA:11m1s]\n",
      "FILE: /Users/santannajj/Dropbox/honeypot-mikrotik/data-analysis/analysis_mikrotik_shodan/../../../../shodan_raw_2019-08-14.json.gz\n",
      "-------------------------------------------------------------------------------\n",
      "\n",
      " *** Download Progress Summary as of Thu Aug 15 17:38:47 2019 ***              m33s\u001b[0m\u001b[35m]\u001b[0m\u001b[0mm\n",
      "===============================================================================\n",
      "[#da35e1 110GiB/123GiB(89%) CN:4 DL:22MiB ETA:9m45s]\n",
      "FILE: /Users/santannajj/Dropbox/honeypot-mikrotik/data-analysis/analysis_mikrotik_shodan/../../../../shodan_raw_2019-08-14.json.gz\n",
      "-------------------------------------------------------------------------------\n",
      "\n",
      " *** Download Progress Summary as of Thu Aug 15 17:39:47 2019 ***              m59s\u001b[0m\u001b[35m]\u001b[0m\u001b[0mm\n",
      "===============================================================================\n",
      "[#da35e1 112GiB/123GiB(90%) CN:4 DL:22MiB ETA:8m48s]\n",
      "FILE: /Users/santannajj/Dropbox/honeypot-mikrotik/data-analysis/analysis_mikrotik_shodan/../../../../shodan_raw_2019-08-14.json.gz\n",
      "-------------------------------------------------------------------------------\n",
      "\n",
      " *** Download Progress Summary as of Thu Aug 15 17:40:48 2019 ***              m48s\u001b[0m\u001b[35m]\u001b[0m\u001b[0m\n",
      "===============================================================================\n",
      "[#da35e1 113GiB/123GiB(91%) CN:4 DL:20MiB ETA:8m38s]\n",
      "FILE: /Users/santannajj/Dropbox/honeypot-mikrotik/data-analysis/analysis_mikrotik_shodan/../../../../shodan_raw_2019-08-14.json.gz\n",
      "-------------------------------------------------------------------------------\n",
      "\n",
      " *** Download Progress Summary as of Thu Aug 15 17:41:49 2019 ***              m53s\u001b[0m\u001b[35m]\u001b[0m\u001b[0m\n",
      "===============================================================================\n",
      "[#da35e1 114GiB/123GiB(92%) CN:4 DL:20MiB ETA:7m43s]\n",
      "FILE: /Users/santannajj/Dropbox/honeypot-mikrotik/data-analysis/analysis_mikrotik_shodan/../../../../shodan_raw_2019-08-14.json.gz\n",
      "-------------------------------------------------------------------------------\n",
      "\n",
      " *** Download Progress Summary as of Thu Aug 15 17:42:49 2019 ***              m21s\u001b[0m\u001b[35m]\u001b[0m\u001b[0m\n",
      "===============================================================================\n",
      "[#da35e1 115GiB/123GiB(93%) CN:4 DL:18MiB ETA:7m33s]\n",
      "FILE: /Users/santannajj/Dropbox/honeypot-mikrotik/data-analysis/analysis_mikrotik_shodan/../../../../shodan_raw_2019-08-14.json.gz\n",
      "-------------------------------------------------------------------------------\n",
      "\n",
      " *** Download Progress Summary as of Thu Aug 15 17:43:49 2019 ***              m38s\u001b[0m\u001b[35m]\u001b[0m\u001b[0m\n",
      "===============================================================================\n",
      "[#da35e1 116GiB/123GiB(94%) CN:4 DL:20MiB ETA:5m46s]\n",
      "FILE: /Users/santannajj/Dropbox/honeypot-mikrotik/data-analysis/analysis_mikrotik_shodan/../../../../shodan_raw_2019-08-14.json.gz\n",
      "-------------------------------------------------------------------------------\n",
      "\n",
      " *** Download Progress Summary as of Thu Aug 15 17:44:50 2019 ***              m58s\u001b[0m\u001b[35m]\u001b[0m\u001b[0m\n",
      "===============================================================================\n",
      "[#da35e1 118GiB/123GiB(95%) CN:4 DL:18MiB ETA:5m7s]\n",
      "FILE: /Users/santannajj/Dropbox/honeypot-mikrotik/data-analysis/analysis_mikrotik_shodan/../../../../shodan_raw_2019-08-14.json.gz\n",
      "-------------------------------------------------------------------------------\n",
      "\n",
      " *** Download Progress Summary as of Thu Aug 15 17:45:50 2019 ***              m4s\u001b[0m\u001b[35m]\u001b[0m\u001b[0mm\n",
      "===============================================================================\n",
      "[#da35e1 119GiB/123GiB(96%) CN:4 DL:19MiB ETA:3m55s]\n",
      "FILE: /Users/santannajj/Dropbox/honeypot-mikrotik/data-analysis/analysis_mikrotik_shodan/../../../../shodan_raw_2019-08-14.json.gz\n",
      "-------------------------------------------------------------------------------\n",
      "\n",
      " *** Download Progress Summary as of Thu Aug 15 17:46:51 2019 ***              m15s\u001b[0m\u001b[35m]\u001b[0m\u001b[0m\n",
      "===============================================================================\n",
      "[#da35e1 120GiB/123GiB(97%) CN:4 DL:18MiB ETA:3m11s]\n",
      "FILE: /Users/santannajj/Dropbox/honeypot-mikrotik/data-analysis/analysis_mikrotik_shodan/../../../../shodan_raw_2019-08-14.json.gz\n",
      "-------------------------------------------------------------------------------\n",
      "\n",
      " *** Download Progress Summary as of Thu Aug 15 17:47:52 2019 ***              m5s\u001b[0m\u001b[35m]\u001b[0m\u001b[0mm\n",
      "===============================================================================\n",
      "[#da35e1 121GiB/123GiB(98%) CN:4 DL:17MiB ETA:2m9s]\n",
      "FILE: /Users/santannajj/Dropbox/honeypot-mikrotik/data-analysis/analysis_mikrotik_shodan/../../../../shodan_raw_2019-08-14.json.gz\n",
      "-------------------------------------------------------------------------------\n",
      "\n",
      " *** Download Progress Summary as of Thu Aug 15 17:48:52 2019 ***              m5s\u001b[0m\u001b[35m]\u001b[0m\u001b[0mm\n",
      "===============================================================================\n",
      "[#da35e1 122GiB/123GiB(99%) CN:4 DL:19MiB ETA:1m]\n",
      "FILE: /Users/santannajj/Dropbox/honeypot-mikrotik/data-analysis/analysis_mikrotik_shodan/../../../../shodan_raw_2019-08-14.json.gz\n",
      "-------------------------------------------------------------------------------\n",
      "\n",
      " *** Download Progress Summary as of Thu Aug 15 17:49:53 2019 ***              s\u001b[0m\u001b[35m]\u001b[0m\u001b[0mm\n",
      "===============================================================================\n",
      "[#da35e1 123GiB/123GiB(99%) CN:2 DL:14MiB ETA:1s]\n",
      "FILE: /Users/santannajj/Dropbox/honeypot-mikrotik/data-analysis/analysis_mikrotik_shodan/../../../../shodan_raw_2019-08-14.json.gz\n",
      "-------------------------------------------------------------------------------\n",
      "\n",
      "\u001b[35m[\u001b[0m#da35e1 123GiB/123GiB\u001b[36m(99%)\u001b[0m CN:1 DL:\u001b[32m8.0MiB\u001b[0m\u001b[35m]\u001b[0m\u001b[0mm\u001b[35m]\u001b[0m\u001b[0m\n",
      "08/15 17:49:57 [\u001b[1;32mNOTICE\u001b[0m] Download complete: /Users/santannajj/Dropbox/honeypot-mikrotik/data-analysis/analysis_mikrotik_shodan/../../../../shodan_raw_2019-08-14.json.gz\n",
      "\n",
      "Download Results:\n",
      "gid   |stat|avg speed  |path/URI\n",
      "======+====+===========+=======================================================\n",
      "da35e1|\u001b[1;32mOK\u001b[0m  |    20MiB/s|/Users/santannajj/Dropbox/honeypot-mikrotik/data-analysis/analysis_mikrotik_shodan/../../../../shodan_raw_2019-08-14.json.gz\n",
      "\n",
      "Status Legend:\n",
      "(OK):download completed.\n"
     ]
    }
   ],
   "source": [
    "!aria2c -x4 -s4 -o ../../../../shodan_raw_2019-08-14.json.gz https://f001.backblazeb2.com/b2api/v1/b2_download_file_by_id?fileId=4_ze3b56ca7daafe60052c90a15_f2036e4bb0915da7f_d20190815_m000003_c001_v0001092_t0019"
   ]
  },
  {
   "cell_type": "markdown",
   "metadata": {},
   "source": [
    "<h1 align='center'>!!!!!!!!!!!!!!!!!!!!!!!!!!!!!!!!!!!!!!!!!!!!!!!!!!!!!!!!!!!!!!!!!!!!!!!!!!!!!!!!!!!!!!!!!!!!!!!!!!!!!!!!!!!!!<br>2. SIMPLIFYING JSON FILE AND GETTING A SET OF FIELDS</h1>"
   ]
  },
  {
   "cell_type": "code",
   "execution_count": null,
   "metadata": {},
   "outputs": [],
   "source": [
    "shodan_raw_filename='raw-daily-2019-07-17.json.gz'\n",
    "shodan_raw_filename"
   ]
  },
  {
   "cell_type": "code",
   "execution_count": null,
   "metadata": {},
   "outputs": [],
   "source": [
    "shodan_mikrotik_filename=shodan_raw_filename.replace('raw-daily','mikrotik')\n",
    "shodan_mikrotik_filename"
   ]
  },
  {
   "cell_type": "markdown",
   "metadata": {},
   "source": [
    "### 1st. Getting only lines that have the word 'mikrotik' in a Shodan record!"
   ]
  },
  {
   "cell_type": "code",
   "execution_count": null,
   "metadata": {},
   "outputs": [],
   "source": [
    "!zgrep -i 'mikrotik' $shodan_raw_filename |gzip > $shodan_mikrotik_filename"
   ]
  },
  {
   "cell_type": "markdown",
   "metadata": {},
   "source": [
    "### 2nd. Simplifying the (already filtered) json file getting only a set of fields"
   ]
  },
  {
   "cell_type": "code",
   "execution_count": null,
   "metadata": {},
   "outputs": [],
   "source": [
    "import json\n",
    "import gzip\n",
    "\n",
    "outputfile_name = shodan_mikrotik_filename.split('.')[0]+'_simplified.json'\n",
    "outputfile = open(outputfile_name, 'w')\n",
    "\n",
    "data=[]\n",
    "for line in gzip.open(shodan_mikrotik_filename, 'r'):\n",
    "    loaded_line = json.loads(line)\n",
    "    try:\n",
    "        ip = loaded_line['ip_str']\n",
    "    except:\n",
    "        ip = \"\"\n",
    "    try:\n",
    "        port = loaded_line['port']\n",
    "    except:\n",
    "        port = \"\"\n",
    "    try:\n",
    "        cc = loaded_line['location']['country_code3']\n",
    "    except:\n",
    "        cc = \"\"\n",
    "    try:\n",
    "        version = loaded_line['version']\n",
    "    except:\n",
    "        version = \"\"    \n",
    "    try:\n",
    "        product = loaded_line['product']\n",
    "    except:\n",
    "        product = \"\"\n",
    "        \n",
    "    json.dump({'ip':ip,\n",
    "               'port':port,\n",
    "               'cc': cc,\n",
    "               'version':version,\n",
    "               'product': product}, outputfile)\n",
    "    \n",
    "    outputfile.write(\"\\n\")\n",
    "\n",
    "outputfile.close()"
   ]
  },
  {
   "cell_type": "markdown",
   "metadata": {},
   "source": [
    "### Sending an email to notify that the script ended!"
   ]
  },
  {
   "cell_type": "code",
   "execution_count": null,
   "metadata": {},
   "outputs": [],
   "source": [
    "def send_email():\n",
    "    import smtplib\n",
    "\n",
    "    gmail_user = 'jjsantanna.script@gmail.com'\n",
    "    gmail_password = 'hosRep-tibjiw-xatca2'\n",
    "\n",
    "    sent_from = gmail_user\n",
    "    to = ['j.j.santanna@utwente.nl']\n",
    "    subject = 'Script Ended'\n",
    "    body = \"This is an automatic message!\\nHey bitch, the data was downloaded!\"\n",
    "\n",
    "    email_text = \"From: %s\\nTo: %s\\nSubject: %s\\n\\n%s\\n\" % (sent_from, \", \".join(to), subject, body)\n",
    "\n",
    "    try:\n",
    "        server = smtplib.SMTP_SSL('smtp.gmail.com', 465)\n",
    "        server.ehlo()\n",
    "        server.login(gmail_user, gmail_password)\n",
    "        server.sendmail(sent_from, to, email_text)\n",
    "        server.close()\n",
    "\n",
    "        print ('Email sent!')\n",
    "    except:\n",
    "        print ('Something went wrong...')"
   ]
  },
  {
   "cell_type": "code",
   "execution_count": null,
   "metadata": {},
   "outputs": [],
   "source": [
    "send_email()"
   ]
  },
  {
   "cell_type": "markdown",
   "metadata": {},
   "source": [
    "<h1 align='center'>!!!!!!!!!!!!!!!!!!!!!!!!!!!!!!!!!!!!!!!!!!!!!!!!!!!!!!!!!!!!!!!!!!!!!!!!!<br>3. MERGING ALL SIMPLIFIED JSON FILES</h1>"
   ]
  },
  {
   "cell_type": "code",
   "execution_count": null,
   "metadata": {},
   "outputs": [],
   "source": []
  },
  {
   "cell_type": "markdown",
   "metadata": {},
   "source": [
    "<h1 align='center'>!!!!!!!!!!!!!!!!!!!!!!!!!!!!!!!!!!!!!!!!!!!!!!!!!!!!!!!!!!!!!!!!!!!!!!!!!<br>4. OFFLINE ANALYSIS STARTS HERE</h1>"
   ]
  },
  {
   "cell_type": "markdown",
   "metadata": {},
   "source": [
    "TIP: use the Python collections.defaultdict class to gracefully handle non-existent properties in your code."
   ]
  },
  {
   "cell_type": "code",
   "execution_count": 2,
   "metadata": {},
   "outputs": [],
   "source": [
    "import json\n",
    "import pandas as pd\n",
    "import matplotlib as mpl\n",
    "# import re\n",
    "# import gzip"
   ]
  },
  {
   "cell_type": "markdown",
   "metadata": {},
   "source": [
    "## Reading the json file"
   ]
  },
  {
   "cell_type": "code",
   "execution_count": 3,
   "metadata": {},
   "outputs": [],
   "source": [
    "# df = pd.read_json('shodan_output.json',lines=True) #THIS DOESN'T WORK!!!!\n",
    "data = [json.loads(line) for line in open('shodan_mikrotik_2019-08-14_simplified.json', 'r')]\n",
    "df = pd.DataFrame(data)"
   ]
  },
  {
   "cell_type": "code",
   "execution_count": 6,
   "metadata": {},
   "outputs": [
    {
     "data": {
      "text/plain": [
       "599082"
      ]
     },
     "execution_count": 6,
     "metadata": {},
     "output_type": "execute_result"
    }
   ],
   "source": [
    "len(df)"
   ]
  },
  {
   "cell_type": "code",
   "execution_count": 8,
   "metadata": {},
   "outputs": [
    {
     "data": {
      "text/plain": [
       "Index(['cc', 'ip', 'port', 'product', 'version'], dtype='object')"
      ]
     },
     "execution_count": 8,
     "metadata": {},
     "output_type": "execute_result"
    }
   ],
   "source": [
    "df.columns"
   ]
  },
  {
   "cell_type": "code",
   "execution_count": 10,
   "metadata": {},
   "outputs": [
    {
     "data": {
      "text/plain": [
       "2000    358893\n",
       "1723    117511\n",
       "80       32607\n",
       "21       25959\n",
       "8080     15967\n",
       "Name: port, dtype: int64"
      ]
     },
     "execution_count": 10,
     "metadata": {},
     "output_type": "execute_result"
    }
   ],
   "source": [
    "df['port'].value_counts().head()"
   ]
  }
 ],
 "metadata": {
  "kernelspec": {
   "display_name": "Python 3",
   "language": "python",
   "name": "python3"
  },
  "language_info": {
   "codemirror_mode": {
    "name": "ipython",
    "version": 3
   },
   "file_extension": ".py",
   "mimetype": "text/x-python",
   "name": "python",
   "nbconvert_exporter": "python",
   "pygments_lexer": "ipython3",
   "version": "3.7.0"
  }
 },
 "nbformat": 4,
 "nbformat_minor": 2
}
