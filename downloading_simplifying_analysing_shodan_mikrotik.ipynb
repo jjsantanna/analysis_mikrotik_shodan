{
 "cells": [
  {
   "cell_type": "markdown",
   "metadata": {},
   "source": [
    "<h1 align='center'>Downloading, Pre-processing, and Simplifying Shodan.io Raw Data<br>Applied to Investigate Mikrotik Devices</h1>"
   ]
  },
  {
   "cell_type": "markdown",
   "metadata": {},
   "source": [
    "<h1 align='center'>========================================================</h1>"
   ]
  },
  {
   "cell_type": "markdown",
   "metadata": {},
   "source": [
    "## Connecting to Shodan CLI\n",
    "[https://shodan.io](https://shodan.io)"
   ]
  },
  {
   "cell_type": "code",
   "execution_count": 4,
   "metadata": {},
   "outputs": [],
   "source": [
    "shodankey = \"dcv9HqJGyaGEWa1t5lDiDXrI0CrG3fTp\" #PROCEDURE: Login in shodan.io -> My account -> API key"
   ]
  },
  {
   "cell_type": "code",
   "execution_count": 2,
   "metadata": {},
   "outputs": [
    {
     "name": "stdout",
     "output_type": "stream",
     "text": [
      "\u001b[32mSuccessfully initialized\u001b[0m\r\n"
     ]
    }
   ],
   "source": [
    "!shodan init $shodankey"
   ]
  },
  {
   "cell_type": "markdown",
   "metadata": {},
   "source": [
    "<h1 align='center'>========================================================</h1>"
   ]
  },
  {
   "cell_type": "markdown",
   "metadata": {},
   "source": [
    "## Making queries using Shodan CLI"
   ]
  },
  {
   "cell_type": "code",
   "execution_count": 2,
   "metadata": {},
   "outputs": [
    {
     "name": "stdout",
     "output_type": "stream",
     "text": [
      "1693812\r\n"
     ]
    }
   ],
   "source": [
    "!shodan count mikrotik"
   ]
  },
  {
   "cell_type": "code",
   "execution_count": 3,
   "metadata": {},
   "outputs": [
    {
     "name": "stdout",
     "output_type": "stream",
     "text": [
      "4127099\r\n"
     ]
    }
   ],
   "source": [
    "!shodan count product:mikrotik"
   ]
  },
  {
   "cell_type": "code",
   "execution_count": 4,
   "metadata": {},
   "outputs": [
    {
     "name": "stdout",
     "output_type": "stream",
     "text": [
      "1458\r\n"
     ]
    }
   ],
   "source": [
    "!shodan count product:mikrotiksmb"
   ]
  },
  {
   "cell_type": "code",
   "execution_count": 5,
   "metadata": {},
   "outputs": [
    {
     "name": "stdout",
     "output_type": "stream",
     "text": [
      "1178172\r\n"
     ]
    }
   ],
   "source": [
    "!shodan count vendor: mikrotik"
   ]
  },
  {
   "cell_type": "code",
   "execution_count": 14,
   "metadata": {},
   "outputs": [
    {
     "name": "stdout",
     "output_type": "stream",
     "text": [
      "4543590\r\n"
     ]
    }
   ],
   "source": [
    "!shodan count port:2000"
   ]
  },
  {
   "cell_type": "code",
   "execution_count": 15,
   "metadata": {},
   "outputs": [
    {
     "name": "stdout",
     "output_type": "stream",
     "text": [
      "4548614\r\n"
     ]
    }
   ],
   "source": [
    "!shodan count port:1723"
   ]
  },
  {
   "cell_type": "markdown",
   "metadata": {},
   "source": [
    "**NOTE:** the main problem is that we don't know wheter Shodan is classifying and retrieving the most accurated number of Mikrotik devices. We don't know which of the queries we should rely on. **Take away: better to get the raw data and classify ourselves!**"
   ]
  },
  {
   "cell_type": "markdown",
   "metadata": {},
   "source": [
    "<h1 align='center'>========================================================</h1>"
   ]
  },
  {
   "cell_type": "markdown",
   "metadata": {},
   "source": [
    "## Downloading all the results using query \"mikrotik\" (via CLI) [LIMIT 1M]\n",
    "**NOTE:** 1 query credit = 100 results\n",
    "\n",
    "**NOTE:** this approach is limited to 1M results. "
   ]
  },
  {
   "cell_type": "code",
   "execution_count": null,
   "metadata": {},
   "outputs": [],
   "source": [
    "!shodan download --limit -1 shodan_output \"mikrotik\""
   ]
  },
  {
   "cell_type": "markdown",
   "metadata": {},
   "source": [
    "**NOTE:** Shodan takes around 2 weeks to perform the port-scan in the entire Internet, therefore We also need to download 2 weeks in advance, merge and analyse!!!!"
   ]
  },
  {
   "cell_type": "code",
   "execution_count": null,
   "metadata": {},
   "outputs": [],
   "source": [
    "!shodan download --limit -1 shodan_mikrotik_older \"mikrotik before:04/07/2019\""
   ]
  },
  {
   "cell_type": "markdown",
   "metadata": {},
   "source": [
    "**NOTE:** Following a printscreen while we've tried to download more than 1M entries"
   ]
  },
  {
   "cell_type": "markdown",
   "metadata": {},
   "source": [
    "![fig](./figs/evidence_less_than_1m_records_shodan.png)"
   ]
  },
  {
   "cell_type": "markdown",
   "metadata": {},
   "source": [
    "<h1 align='center'>========================================================</h1>"
   ]
  },
  {
   "cell_type": "markdown",
   "metadata": {},
   "source": [
    "## Downloading raw data via an enterprise account [UNLIMITED DATA]\n",
    "To overcome the limitation of retrieving only 1M of entries, we've contacted support@shodan.io asking for the possibility to perform 'Bulk Downloads'. It is a functionality only available to 'Enterprise Accounts' (https://enterprise.shodan.io/product-comparison). Well, they gave us a temporary enterprise account accessible at [https://enterprise.shodan.io](https://enterprise.shodan.io). Thanks John Matherly (twitter: @achillean) "
   ]
  },
  {
   "cell_type": "markdown",
   "metadata": {},
   "source": [
    "## Retrieving the list of datasets available "
   ]
  },
  {
   "cell_type": "code",
   "execution_count": 3,
   "metadata": {},
   "outputs": [
    {
     "name": "stdout",
     "output_type": "stream",
     "text": [
      "Traceback (most recent call last):\n",
      "  File \"/usr/local/bin/shodan\", line 11, in <module>\n",
      "    load_entry_point('shodan==1.13.0', 'console_scripts', 'shodan')()\n",
      "  File \"/usr/local/lib/python3.7/site-packages/click/core.py\", line 764, in __call__\n",
      "    return self.main(*args, **kwargs)\n",
      "  File \"/usr/local/lib/python3.7/site-packages/click/core.py\", line 717, in main\n",
      "    rv = self.invoke(ctx)\n",
      "  File \"/usr/local/lib/python3.7/site-packages/click/core.py\", line 1137, in invoke\n",
      "    return _process_result(sub_ctx.command.invoke(sub_ctx))\n",
      "  File \"/usr/local/lib/python3.7/site-packages/click/core.py\", line 1137, in invoke\n",
      "    return _process_result(sub_ctx.command.invoke(sub_ctx))\n",
      "  File \"/usr/local/lib/python3.7/site-packages/click/core.py\", line 956, in invoke\n",
      "    return ctx.invoke(self.callback, **ctx.params)\n",
      "  File \"/usr/local/lib/python3.7/site-packages/click/core.py\", line 555, in invoke\n",
      "    return callback(*args, **kwargs)\n",
      "  File \"/usr/local/lib/python3.7/site-packages/shodan/cli/data.py\", line 33, in data_list\n",
      "    datasets = api.data.list_datasets()\n",
      "  File \"/usr/local/lib/python3.7/site-packages/shodan/client.py\", line 58, in list_datasets\n",
      "    return self.parent._request('/shodan/data', {})\n",
      "  File \"/usr/local/lib/python3.7/site-packages/shodan/client.py\", line 256, in _request\n",
      "    raise APIError('Access denied (403 Forbidden)')\n",
      "shodan.exception.APIError: Access denied (403 Forbidden)\n"
     ]
    }
   ],
   "source": [
    "!shodan data list"
   ]
  },
  {
   "cell_type": "markdown",
   "metadata": {},
   "source": [
    "## Listing the data within 'raw-daily' dataset (and saving it in a file)"
   ]
  },
  {
   "cell_type": "code",
   "execution_count": 19,
   "metadata": {
    "scrolled": false
   },
   "outputs": [],
   "source": [
    "!shodan data list --dataset=raw-daily > shodan_list_daily_files.txt"
   ]
  },
  {
   "cell_type": "code",
   "execution_count": 20,
   "metadata": {},
   "outputs": [
    {
     "name": "stdout",
     "output_type": "stream",
     "text": [
      "2020-06-23.json.gz  114.2 GB  43f00025cf9d2f2afe60b4b33bf38858df40b8b3  https://f001.backblazeb2.com/b2api/v1/b2_download_file_by_id?fileId=4_ze3b56ca7daafe60052c90a15_f21096ed7e0e8da28_d20200624_m015713_c001_v0001128_t0002\r\n",
      "2020-06-22.json.gz  114.0 GB  96e7bb71c06583e3b291435be8aba162bcf5c974  https://f001.backblazeb2.com/b2api/v1/b2_download_file_by_id?fileId=4_ze3b56ca7daafe60052c90a15_f2092b2ff74613b40_d20200623_m015541_c001_v0001137_t0041\r\n",
      "2020-06-21.json.gz  103.3 GB  a41fd520cfbe4e3f211d3247396975d33d2a5acc  https://f001.backblazeb2.com/b2api/v1/b2_download_file_by_id?fileId=4_ze3b56ca7daafe60052c90a15_f201b79977f7b364e_d20200622_m014812_c001_v0001137_t0049\r\n",
      "2020-06-20.json.gz  1.8 GB    3855f518fb2ca6655f7ccd04f2954264fd2c6e47  https://f001.backblazeb2.com/b2api/v1/b2_download_file_by_id?fileId=4_ze3b56ca7daafe60052c90a15_f21096ed7e0e7785a_d20200621_m003120_c001_v0001137_t0044\r\n",
      "2020-06-19.json.gz  105.3 GB  b72bb9e248dd6b3f41138f9b29904733830c9107  https://f001.backblazeb2.com/b2api/v1/b2_download_file_by_id?fileId=4_ze3b56ca7daafe60052c90a15_f21096ed7e0e70f16_d20200620_m015933_c001_v0001136_t0001\r\n",
      "2020-06-18.json.gz  110.3 GB  921e73e18bd1e002d5bb025f3d482577f125badb  https://f001.backblazeb2.com/b2api/v1/b2_download_file_by_id?fileId=4_ze3b56ca7daafe60052c90a15_f2028210b48322e2a_d20200619_m015248_c001_v0001137_t0002\r\n",
      "2020-06-17.json.gz  108.2 GB  940649e6bd04fe510bbd40b74d4a681fa9fbaee7  https://f001.backblazeb2.com/b2api/v1/b2_download_file_by_id?fileId=4_ze3b56ca7daafe60052c90a15_f210dfc44738290fb_d20200618_m020726_c001_v0001093_t0052\r\n",
      "2020-06-16.json.gz  108.5 GB  c7d591b9c6dcfd1a12d694933514ea4b74fddb74  https://f001.backblazeb2.com/b2api/v1/b2_download_file_by_id?fileId=4_ze3b56ca7daafe60052c90a15_f20433aa7e162cc3d_d20200617_m015533_c001_v0001037_t0035\r\n",
      "2020-06-15.json.gz  107.8 GB  cfb56baa901e87a271a8e5b6eddbee5491e895f4  https://f001.backblazeb2.com/b2api/v1/b2_download_file_by_id?fileId=4_ze3b56ca7daafe60052c90a15_f21102065e8830d9a_d20200616_m015332_c001_v0001131_t0036\r\n",
      "2020-06-14.json.gz  110.7 GB  5bcd7d6896c8569750e999f13c8592316ebc1b7b  https://f001.backblazeb2.com/b2api/v1/b2_download_file_by_id?fileId=4_ze3b56ca7daafe60052c90a15_f2086514d4ee18456_d20200615_m014849_c001_v0001137_t0051\r\n",
      "2020-06-13.json.gz  108.7 GB  33619373dc0690e7b642ede41608946c91178ee2  https://f001.backblazeb2.com/b2api/v1/b2_download_file_by_id?fileId=4_ze3b56ca7daafe60052c90a15_f2086514d4ee10e90_d20200614_m014650_c001_v0001137_t0000\r\n",
      "2020-06-12.json.gz  108.5 GB  f786a1a696f6652967558fdbb67c868f1f6ac471  https://f001.backblazeb2.com/b2api/v1/b2_download_file_by_id?fileId=4_ze3b56ca7daafe60052c90a15_f203a3efbe54d05d2_d20200613_m015939_c001_v0001136_t0022\r\n",
      "2020-06-11.json.gz  105.1 GB  5df29c5246bcff4f059fd65a1e6fc5195dae5aa2  https://f001.backblazeb2.com/b2api/v1/b2_download_file_by_id?fileId=4_ze3b56ca7daafe60052c90a15_f214aa4e42adca907_d20200612_m014612_c001_v0001038_t0039\r\n",
      "2020-06-10.json.gz  104.6 GB  1c46e75183f89855bcd3de681545317d04deb26f  https://f001.backblazeb2.com/b2api/v1/b2_download_file_by_id?fileId=4_ze3b56ca7daafe60052c90a15_f209850591ce39002_d20200611_m015048_c001_v0001137_t0038\r\n",
      "2020-06-09.json.gz  111.1 GB  5047a23602540c225742e8427b78d683c0c0fa2c  https://f001.backblazeb2.com/b2api/v1/b2_download_file_by_id?fileId=4_ze3b56ca7daafe60052c90a15_f200c4eed7fee2908_d20200610_m014656_c001_v0001006_t0017\r\n",
      "2020-06-08.json.gz  111.9 GB  4540a6b1bbfce82b86cd54ca8e17c161eed3ace9  https://f001.backblazeb2.com/b2api/v1/b2_download_file_by_id?fileId=4_ze3b56ca7daafe60052c90a15_f209850591ce29e6d_d20200609_m015447_c001_v0001131_t0059\r\n",
      "2020-06-07.json.gz  122.0 GB  a3fdf16472b4fc14f44cda8f75873d82ce49b663  https://f001.backblazeb2.com/b2api/v1/b2_download_file_by_id?fileId=4_ze3b56ca7daafe60052c90a15_f207056282b05b367_d20200608_m020307_c001_v0001137_t0016\r\n",
      "2020-06-06.json.gz  123.3 GB  a8e3befbd7478cf2b1213a1fcc0b1de1a6e94324  https://f001.backblazeb2.com/b2api/v1/b2_download_file_by_id?fileId=4_ze3b56ca7daafe60052c90a15_f206156dd0730cc4a_d20200607_m015925_c001_v0001036_t0058\r\n",
      "2020-06-05.json.gz  32.5 GB   a9997b2b5d59fa75ac49104ec83f9ef68f69023a  https://f001.backblazeb2.com/b2api/v1/b2_download_file_by_id?fileId=4_ze3b56ca7daafe60052c90a15_f201f90db837e9b9f_d20200606_m005149_c001_v0001137_t0004\r\n",
      "2020-06-04.json.gz  33.0 byteshttps://f001.backblazeb2.com/b2api/v1/b2_download_file_by_id?fileId=4_ze3b56ca7daafe60052c90a15_f110d9a95782ff57c_d20200605_m003005_c001_v0001091_t0002\r\n",
      "2020-06-03.json.gz  49.2 GB   e7a5f4d7419598fccbca7d15998835584e26613d  https://f001.backblazeb2.com/b2api/v1/b2_download_file_by_id?fileId=4_ze3b56ca7daafe60052c90a15_f214aa4e42ad8bb9c_d20200604_m010408_c001_v0001134_t0058\r\n",
      "2020-06-02.json.gz  114.8 GB  deb3aaca2ca9d4dd0887ca5f09ad74e348de9d09  https://f001.backblazeb2.com/b2api/v1/b2_download_file_by_id?fileId=4_ze3b56ca7daafe60052c90a15_f214aa4e42ad82d3b_d20200603_m014838_c001_v0001137_t0039\r\n",
      "2020-06-01.json.gz  104.7 GB  674f524718aa3ea889ea5a1309d1dbdbb9a7faed  https://f001.backblazeb2.com/b2api/v1/b2_download_file_by_id?fileId=4_ze3b56ca7daafe60052c90a15_f203057656c1cfffb_d20200602_m013920_c001_v0001093_t0041\r\n",
      "2020-05-31.json.gz  106.5 GB  d15038666f47b66b92156074840f917bd80f3aee  https://f001.backblazeb2.com/b2api/v1/b2_download_file_by_id?fileId=4_ze3b56ca7daafe60052c90a15_f203057656c1c9912_d20200601_m013938_c001_v0001137_t0053\r\n",
      "2020-05-30.json.gz  82.9 GB   dc118645689ce2b75df33191d586210e2e5d98b3  https://f001.backblazeb2.com/b2api/v1/b2_download_file_by_id?fileId=4_ze3b56ca7daafe60052c90a15_f214aa4e42ad6a531_d20200531_m012513_c001_v0001032_t0059\r\n",
      "2020-05-29.json.gz  120.7 GB  77d70089e25c54273c59edec642c584d923120cd  https://f001.backblazeb2.com/b2api/v1/b2_download_file_by_id?fileId=4_ze3b56ca7daafe60052c90a15_f20904d131ebdcb0f_d20200530_m015331_c001_v0001131_t0006\r\n",
      "2020-05-28.json.gz  114.6 GB  0532c1bd4b57db273a4fa065053bdeaf59ab05f5  https://f001.backblazeb2.com/b2api/v1/b2_download_file_by_id?fileId=4_ze3b56ca7daafe60052c90a15_f2051789c3d4e5728_d20200529_m015409_c001_v0001137_t0013\r\n",
      "2020-05-27.json.gz  116.2 GB  81442c4e7fd26c8069b8a654decfd2af6f4be916  https://f001.backblazeb2.com/b2api/v1/b2_download_file_by_id?fileId=4_ze3b56ca7daafe60052c90a15_f21187553f870b015_d20200528_m015255_c001_v0001137_t0041\r\n",
      "2020-05-26.json.gz  117.6 GB  e44b6d8482c50141071cffa6c07a908cd9736dbe  https://f001.backblazeb2.com/b2api/v1/b2_download_file_by_id?fileId=4_ze3b56ca7daafe60052c90a15_f201707daec9951f4_d20200527_m015131_c001_v0001136_t0028\r\n",
      "2020-05-25.json.gz  117.9 GB  9862d215863066006e8cce71e4b4c007efc1bcd0  https://f001.backblazeb2.com/b2api/v1/b2_download_file_by_id?fileId=4_ze3b56ca7daafe60052c90a15_f204b855790f64c4b_d20200526_m015055_c001_v0001120_t0057\r\n"
     ]
    }
   ],
   "source": [
    "!cat shodan_list_daily_files.txt"
   ]
  },
  {
   "cell_type": "markdown",
   "metadata": {},
   "source": [
    "**NOTE:** As you can see the data available contains only the last 30 days. Each day has around 100G of data. Each entry contains the direct link to the data (something like https://f001.backblazeb2.com/b2api/v1/b2_download_file_by_id?fileId=...). It looks like that **anyone with the link can download the data.** 100G times 30 days is around 3T, it will take ages for downloading it. Following we played a bit with Aria2 for downloading things in parallel."
   ]
  },
  {
   "cell_type": "markdown",
   "metadata": {},
   "source": [
    "<h1 align='center'>========================================================</h1>"
   ]
  },
  {
   "cell_type": "markdown",
   "metadata": {},
   "source": [
    "## Trying to download 1 file via Aria2c (https://aria2.github.io/) for parallel threads download using command line"
   ]
  },
  {
   "cell_type": "markdown",
   "metadata": {},
   "source": [
    "**NOTE:** you must install 'aria2' because 'aria2c' is the command-line tool.\n",
    "\n",
    "**HOW TO USE:**\n",
    "\n",
    "!aria2c -x<\"NUMBER_CONNECTIONS_PER_HOST\"> -s<\"NUMBER_THREADS\"> -o <\"OUTPUT_FILE_NAME\"> <\"DIRECT_DOWNLOAD_LINK\">\n",
    "\n",
    "**EXAMPLE:**\n",
    "\n",
    "!aria2c -x4 -s4 -o shodan_raw_2019-08-14.json.gz https://f001.backblazeb2.com/b2api/v1/b2_download_file_by_id?fileId=4_ze3b56ca7daafe60052c90a15_f2036e4bb0915da7f_d20190815_m000003_c001_v0001092_t0019"
   ]
  },
  {
   "cell_type": "code",
   "execution_count": null,
   "metadata": {},
   "outputs": [],
   "source": [
    "!aria2c -x4 -s4 -o shodan_raw_2019-08-14.json.gz https://f001.backblazeb2.com/b2api/v1/b2_download_file_by_id?fileId=4_ze3b56ca7daafe60052c90a15_f2036e4bb0915da7f_d20190815_m000003_c001_v0001092_t0019"
   ]
  },
  {
   "cell_type": "markdown",
   "metadata": {},
   "source": [
    "<h1 align='center'>========================================================</h1>"
   ]
  },
  {
   "cell_type": "markdown",
   "metadata": {},
   "source": [
    "## Automatic downloading all the data listed in 'raw-daily' as performed followed by the preprocessing data. I describe the script in the last session."
   ]
  },
  {
   "cell_type": "markdown",
   "metadata": {},
   "source": [
    "<h1 align='center'>========================================================</h1>"
   ]
  },
  {
   "cell_type": "markdown",
   "metadata": {},
   "source": [
    "## (Offline) pre-processing the raw data\n",
    "Each file (example: 'raw-daily-2019-07-17.json.gz') contains *unstructured data*. It is a .json file, each line is \n",
    "we need to (1) extract only the lines that contain in any field the word \"mikrotik\" (save the output in a file: \"mikrotik\"), then use these mikortik-related entries for (2) extract only a couple of fields of our interest (i.e., IP address, port number, country code, version, and product) (save the output in another file: \"simplified\"). No judgments on \"throwing away\" data, okey?! Remember it will be more then 1M entries to pos-process."
   ]
  },
  {
   "cell_type": "markdown",
   "metadata": {},
   "source": [
    "## 0st. Defining which downloaded raw file would you like to pre-process"
   ]
  },
  {
   "cell_type": "code",
   "execution_count": null,
   "metadata": {},
   "outputs": [],
   "source": [
    "shodan_raw_filename='raw-daily-2019-07-17.json.gz'"
   ]
  },
  {
   "cell_type": "markdown",
   "metadata": {},
   "source": [
    "## 1st. Getting only lines that have the word 'mikrotik' "
   ]
  },
  {
   "cell_type": "code",
   "execution_count": null,
   "metadata": {},
   "outputs": [],
   "source": [
    "shodan_mikrotik_filename=shodan_raw_filename.replace('raw-daily','mikrotik')"
   ]
  },
  {
   "cell_type": "code",
   "execution_count": null,
   "metadata": {},
   "outputs": [],
   "source": [
    "!zgrep -i 'mikrotik' $shodan_raw_filename |gzip > $shodan_mikrotik_filename"
   ]
  },
  {
   "cell_type": "markdown",
   "metadata": {},
   "source": [
    "**NOTE:** zgrep is faster than any python code!"
   ]
  },
  {
   "cell_type": "markdown",
   "metadata": {},
   "source": [
    "## 2nd. Simplifying the (already filtered) .json file to get only a set of fields\n",
    "**NOTE:** Ofcourse, YES, we've tried 'jq' [(https://stedolan.github.io/jq/)](https://stedolan.github.io/jq/) first BUT it didn't work!"
   ]
  },
  {
   "cell_type": "code",
   "execution_count": null,
   "metadata": {},
   "outputs": [],
   "source": [
    "import json\n",
    "import gzip\n",
    "\n",
    "outputfile_name = shodan_mikrotik_filename.split('.')[0]+'_simplified.json'\n",
    "\n",
    "outputfile = open(outputfile_name, 'w')\n",
    "\n",
    "data=[]\n",
    "for line in gzip.open(shodan_mikrotik_filename, 'r'):\n",
    "    loaded_line = json.loads(line)\n",
    "    try:\n",
    "        ip = loaded_line['ip_str']\n",
    "    except:\n",
    "        ip = \"\"\n",
    "    try:\n",
    "        port = loaded_line['port']\n",
    "    except:\n",
    "        port = \"\"\n",
    "    try:\n",
    "        cc = loaded_line['location']['country_code3']\n",
    "    except:\n",
    "        cc = \"\"\n",
    "    try:\n",
    "        version = loaded_line['version']\n",
    "    except:\n",
    "        version = \"\"    \n",
    "    try:\n",
    "        product = loaded_line['product']\n",
    "    except:\n",
    "        product = \"\"\n",
    "        \n",
    "    json.dump({'ip':ip,\n",
    "               'port':port,\n",
    "               'cc': cc,\n",
    "               'version':version,\n",
    "               'product': product}, outputfile)\n",
    "    \n",
    "    outputfile.write(\"\\n\")\n",
    "\n",
    "outputfile.close()"
   ]
  },
  {
   "cell_type": "markdown",
   "metadata": {},
   "source": [
    "## 4th. [ BONUS] Sending an email to notify that the script ended!\n",
    "This is the lazy way to leave a code running and returning when it is done =D"
   ]
  },
  {
   "cell_type": "code",
   "execution_count": null,
   "metadata": {},
   "outputs": [],
   "source": [
    "def send_email():\n",
    "    import smtplib\n",
    "\n",
    "    gmail_user = 'jjsantanna.script@gmail.com'\n",
    "    gmail_password = '<PASSWORD-HERE>'\n",
    "\n",
    "    sent_from = gmail_user\n",
    "    to = ['j.j.santanna@utwente.nl']\n",
    "    subject = 'Script Ended Bitch'\n",
    "    body = \"This is an automatic message!\\nGo to your computer and check it out.\"\n",
    "\n",
    "    email_text = \"From: %s\\nTo: %s\\nSubject: %s\\n\\n%s\\n\" % (sent_from, \", \".join(to), subject, body)\n",
    "\n",
    "    try:\n",
    "        server = smtplib.SMTP_SSL('smtp.gmail.com', 465)\n",
    "        server.ehlo()\n",
    "        server.login(gmail_user, gmail_password)\n",
    "        server.sendmail(sent_from, to, email_text)\n",
    "        server.close()\n",
    "\n",
    "        print ('Email sent!')\n",
    "    except:\n",
    "        print ('Something went wrong...')"
   ]
  },
  {
   "cell_type": "code",
   "execution_count": null,
   "metadata": {},
   "outputs": [],
   "source": [
    "send_email()"
   ]
  },
  {
   "cell_type": "markdown",
   "metadata": {},
   "source": [
    "<h1 align='center'>========================================================</h1>"
   ]
  },
  {
   "cell_type": "markdown",
   "metadata": {},
   "source": [
    "## EXAMPLE of OFFLINE analyzing a simplified raw data from Shodan"
   ]
  },
  {
   "cell_type": "code",
   "execution_count": 22,
   "metadata": {},
   "outputs": [],
   "source": [
    "import json\n",
    "import pandas as pd\n",
    "import matplotlib as mpl"
   ]
  },
  {
   "cell_type": "markdown",
   "metadata": {},
   "source": [
    "## Reading the json file\n",
    "**NOTE:** pandas.read_json() didn't work. This is why we did a workaround. "
   ]
  },
  {
   "cell_type": "code",
   "execution_count": 23,
   "metadata": {},
   "outputs": [],
   "source": [
    "data = [json.loads(line) for line in open('data_example/shodan_mikrotik_2019-08-14_simplified.json', 'r')]\n",
    "df = pd.DataFrame(data)"
   ]
  },
  {
   "cell_type": "code",
   "execution_count": 6,
   "metadata": {},
   "outputs": [
    {
     "data": {
      "text/plain": [
       "599082"
      ]
     },
     "execution_count": 6,
     "metadata": {},
     "output_type": "execute_result"
    }
   ],
   "source": [
    "len(df)"
   ]
  },
  {
   "cell_type": "code",
   "execution_count": 8,
   "metadata": {},
   "outputs": [
    {
     "data": {
      "text/plain": [
       "Index(['cc', 'ip', 'port', 'product', 'version'], dtype='object')"
      ]
     },
     "execution_count": 8,
     "metadata": {},
     "output_type": "execute_result"
    }
   ],
   "source": [
    "df.columns"
   ]
  },
  {
   "cell_type": "code",
   "execution_count": 10,
   "metadata": {},
   "outputs": [
    {
     "data": {
      "text/plain": [
       "2000    358893\n",
       "1723    117511\n",
       "80       32607\n",
       "21       25959\n",
       "8080     15967\n",
       "Name: port, dtype: int64"
      ]
     },
     "execution_count": 10,
     "metadata": {},
     "output_type": "execute_result"
    }
   ],
   "source": [
    "df['port'].value_counts().head()"
   ]
  },
  {
   "cell_type": "markdown",
   "metadata": {},
   "source": [
    "<h1 align='center'>========================================================</h1>"
   ]
  },
  {
   "cell_type": "markdown",
   "metadata": {},
   "source": [
    "At the end we wrote a bash script to do everything for us!"
   ]
  },
  {
   "cell_type": "markdown",
   "metadata": {},
   "source": [
    "## Bash script to (1) get a list of Shodan.io raw files, (2) download each file, (3) pre-process each file, (4) simplify the pre-processed file + send email to me, and (5) move the file to cold storage."
   ]
  },
  {
   "cell_type": "markdown",
   "metadata": {},
   "source": [
    "```bash\n",
    "#!/bin/bash\n",
    "\n",
    "echo \"Please enter your Shodan API key, followed by [ENTER]:\"\n",
    "read shodankey\n",
    "\n",
    "shodan init $shodankey\n",
    "\n",
    "shodan data list --dataset=raw-daily > shodan_list_daily_files.txt\n",
    "\n",
    "cat shodan_list_daily_files.txt | while read filename filesize id link\n",
    "do \n",
    "\techo $filename\n",
    "\taria2c -x4 -s4 -o shodan_raw_$filename $link\n",
    "\tzgrep -i 'mikrotik' shodan_raw_$filename| gzip > shodan_mikrotik_$filename\n",
    "\tpython3 simplify_json_gz.py -i shodan_mikrotik_$filename\n",
    "\tmv $filename /Volumes/LaCie\n",
    "done\n",
    "```"
   ]
  }
 ],
 "metadata": {
  "kernelspec": {
   "display_name": "Python 3",
   "language": "python",
   "name": "python3"
  },
  "language_info": {
   "codemirror_mode": {
    "name": "ipython",
    "version": 3
   },
   "file_extension": ".py",
   "mimetype": "text/x-python",
   "name": "python",
   "nbconvert_exporter": "python",
   "pygments_lexer": "ipython3",
   "version": "3.7.0"
  }
 },
 "nbformat": 4,
 "nbformat_minor": 2
}
